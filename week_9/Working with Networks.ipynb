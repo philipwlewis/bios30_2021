{
 "cells": [
  {
   "cell_type": "code",
   "execution_count": 1,
   "id": "03fea76b",
   "metadata": {},
   "outputs": [
    {
     "name": "stdout",
     "output_type": "stream",
     "text": [
      "hello world\n"
     ]
    }
   ],
   "source": [
    "print(\"hello world\")"
   ]
  },
  {
   "cell_type": "code",
   "execution_count": 2,
   "id": "afcf9424",
   "metadata": {},
   "outputs": [
    {
     "data": {
      "application/javascript": [
       "IPython.notebook.set_autosave_interval(10000)"
      ]
     },
     "metadata": {},
     "output_type": "display_data"
    },
    {
     "name": "stdout",
     "output_type": "stream",
     "text": [
      "Autosaving every 10 seconds\n"
     ]
    }
   ],
   "source": [
    "%autosave 10"
   ]
  },
  {
   "cell_type": "code",
   "execution_count": 5,
   "id": "2793392e",
   "metadata": {},
   "outputs": [],
   "source": [
    "import networkx as nx\n",
    "import numpy as np\n",
    "import matplotlib.pyplot as plt\n",
    "import pandas as pd\n"
   ]
  },
  {
   "cell_type": "code",
   "execution_count": 6,
   "id": "3bf2d9ac",
   "metadata": {},
   "outputs": [],
   "source": [
    "# to install networkx run\n",
    "\n",
    "# pip install networkx"
   ]
  },
  {
   "cell_type": "code",
   "execution_count": 7,
   "id": "9aa97bae",
   "metadata": {},
   "outputs": [],
   "source": [
    "g = nx.Graph()"
   ]
  },
  {
   "cell_type": "code",
   "execution_count": 8,
   "id": "f5c78d9e",
   "metadata": {},
   "outputs": [
    {
     "data": {
      "text/plain": [
       "<networkx.classes.graph.Graph at 0x7feb01e101f0>"
      ]
     },
     "execution_count": 8,
     "metadata": {},
     "output_type": "execute_result"
    }
   ],
   "source": [
    "g.add_node('A')\n",
    "g.add_node('B')\n",
    "g.add_node('C')\n",
    "g.add_node('D')\n",
    "\n",
    "g.add_edge('A','B')\n",
    "g.add_edge('A','C')\n",
    "g.add_edge('B','C')\n",
    "g.add_edge('D','C')\n",
    "\n",
    "g"
   ]
  },
  {
   "cell_type": "code",
   "execution_count": 9,
   "id": "13d90a86",
   "metadata": {},
   "outputs": [
    {
     "data": {
      "image/png": "[encoded data removed]",
      "text/plain": [
       "<Figure size 432x288 with 1 Axes>"
      ]
     },
     "metadata": {},
     "output_type": "display_data"
    }
   ],
   "source": [
    "nx.draw(g)"
   ]
  },
  {
   "cell_type": "code",
   "execution_count": 10,
   "id": "58251b53",
   "metadata": {},
   "outputs": [
    {
     "data": {
      "image/png": "[encoded data removed]",
      "text/plain": [
       "<Figure size 432x288 with 1 Axes>"
      ]
     },
     "metadata": {},
     "output_type": "display_data"
    }
   ],
   "source": [
    "nx.draw(g, with_labels=True)"
   ]
  },
  {
   "cell_type": "code",
   "execution_count": 14,
   "id": "cce45965",
   "metadata": {},
   "outputs": [
    {
     "data": {
      "image/png": "[encoded data removed]",
      "text/plain": [
       "<Figure size 288x288 with 1 Axes>"
      ]
     },
     "metadata": {},
     "output_type": "display_data"
    }
   ],
   "source": [
    "plt.figure(figsize=(4,4))\n",
    "\n",
    "pos = {\n",
    "    \"A\": [0,1],\n",
    "    \"B\": [1,1],\n",
    "    \"C\": [0,0],\n",
    "    \"D\": [1,0]\n",
    "}\n",
    "nx.draw(g, pos, with_labels=True)"
   ]
  },
  {
   "cell_type": "code",
   "execution_count": 19,
   "id": "e562de63",
   "metadata": {},
   "outputs": [
    {
     "data": {
      "text/plain": [
       "DegreeView({'A': 2, 'B': 2, 'C': 3, 'D': 1})"
      ]
     },
     "execution_count": 19,
     "metadata": {},
     "output_type": "execute_result"
    }
   ],
   "source": [
    "g.degree()"
   ]
  },
  {
   "cell_type": "code",
   "execution_count": 26,
   "id": "87b7b9ea",
   "metadata": {},
   "outputs": [
    {
     "name": "stdout",
     "output_type": "stream",
     "text": [
      "2\n",
      "2\n",
      "3\n",
      "1\n"
     ]
    }
   ],
   "source": [
    "total = 0\n",
    "for item in g.degree():\n",
    "    total += item[1]\n",
    "\n",
    "av = total/\n",
    "    \n",
    "    "
   ]
  },
  {
   "cell_type": "code",
   "execution_count": 22,
   "id": "b73484a6",
   "metadata": {},
   "outputs": [
    {
     "data": {
      "text/plain": [
       "{2: 2.5, 3: 1.6666666666666667, 1: 3.0}"
      ]
     },
     "execution_count": 22,
     "metadata": {},
     "output_type": "execute_result"
    }
   ],
   "source": [
    "nx.average_degree_connectivity(g)"
   ]
  },
  {
   "cell_type": "code",
   "execution_count": null,
   "id": "a13b96c6",
   "metadata": {},
   "outputs": [],
   "source": [
    "g.degree()"
   ]
  }
 ],
 "metadata": {
  "kernelspec": {
   "display_name": "Python 3 (ipykernel)",
   "language": "python",
   "name": "python3"
  },
  "language_info": {
   "codemirror_mode": {
    "name": "ipython",
    "version": 3
   },
   "file_extension": ".py",
   "mimetype": "text/x-python",
   "name": "python",
   "nbconvert_exporter": "python",
   "pygments_lexer": "ipython3",
   "version": "3.8.11"
  }
 },
 "nbformat": 4,
 "nbformat_minor": 5
}
