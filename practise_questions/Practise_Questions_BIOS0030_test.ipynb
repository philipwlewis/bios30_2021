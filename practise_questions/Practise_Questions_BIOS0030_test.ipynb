{
 "cells": [
  {
   "cell_type": "markdown",
   "id": "91c89f8f",
   "metadata": {},
   "source": [
    "# Practise_Questions_BIOS0030_test\n",
    "\n",
    "Notes:\n",
    "\n",
    "- in the actual test questions involving the use of `numpy`, `matplotlib` and `pandas` will be added.\n",
    "- the total number of marks in this test is 40, and your target time to complete them should be 60-75 minutes."
   ]
  },
  {
   "cell_type": "markdown",
   "id": "66d264fe",
   "metadata": {},
   "source": [
    "**Q1** Write Python code that displays the following message:\n",
    "```\n",
    "I can print!\n",
    "```\n",
    "\n",
    "##### 1 mark"
   ]
  },
  {
   "cell_type": "code",
   "execution_count": null,
   "id": "d1a1b0db",
   "metadata": {},
   "outputs": [],
   "source": [
    "\n",
    "\n",
    "\n"
   ]
  },
  {
   "cell_type": "markdown",
   "id": "be84cd3c",
   "metadata": {},
   "source": [
    "----"
   ]
  },
  {
   "cell_type": "markdown",
   "id": "1d94b53e",
   "metadata": {},
   "source": [
    "**Q2** The following code defines some Python variables:\n",
    "\n",
    "```\n",
    "a = '999'\n",
    "b = 99.9\n",
    "c = [ 9, 9, 9 ]\n",
    "```\n",
    "\n",
    "Write down the object types of variables `a` `b` and `c`.\n",
    "##### 1 mark"
   ]
  },
  {
   "cell_type": "code",
   "execution_count": 23,
   "id": "c45e6015",
   "metadata": {},
   "outputs": [],
   "source": [
    "# a is \n",
    "\n",
    "# b is\n",
    "\n",
    "# c is\n"
   ]
  },
  {
   "cell_type": "markdown",
   "id": "eec262f0",
   "metadata": {},
   "source": [
    "----"
   ]
  },
  {
   "cell_type": "markdown",
   "id": "e04411ec",
   "metadata": {},
   "source": [
    "**Q3** Look at the following Python code:\n",
    "\n",
    "```python\n",
    "top_keys = ['q', 'w', 'e', 'r', 't', 'y', \n",
    "\t\t\t'u', 'i', 'o', 'p']\n",
    "print(top_keys[4])\n",
    "```\n",
    "What letter will be displayed?\n",
    "##### 1 mark"
   ]
  },
  {
   "cell_type": "code",
   "execution_count": 24,
   "id": "350271fd",
   "metadata": {},
   "outputs": [],
   "source": [
    "# the letter displayed will be \n",
    "#\n",
    "#\n",
    "#"
   ]
  },
  {
   "cell_type": "markdown",
   "id": "d53196f8",
   "metadata": {},
   "source": [
    "----"
   ]
  },
  {
   "cell_type": "markdown",
   "id": "310c6c48",
   "metadata": {},
   "source": [
    "**Q4** Write Python code to evaluate the following expression.\n",
    "$$\\frac{(1-2-3)-(4-5-6)}{7+(8\\times9)}$$ \n",
    "\n",
    "\n",
    "##### 1 mark"
   ]
  },
  {
   "cell_type": "code",
   "execution_count": null,
   "id": "3e9a3cb9",
   "metadata": {},
   "outputs": [],
   "source": [
    "\n",
    "\n",
    "\n",
    "\n"
   ]
  },
  {
   "cell_type": "markdown",
   "id": "998828bd",
   "metadata": {},
   "source": [
    "----"
   ]
  },
  {
   "cell_type": "markdown",
   "id": "5eb8bc19",
   "metadata": {},
   "source": [
    "**Q5** Look at the following Python code:\n",
    "\n",
    "```\n",
    "line_1 = \"I say \" + \"I say \" + \"I say \"\n",
    "line_2 = 'What's brown and sticky?'\n",
    "\n",
    "line_3 = [ a, stick! ]\n",
    "\n",
    "line_4 = 'ha'*20\n",
    "```\n",
    "\n",
    "Which lines are valid Python commands?\n",
    "##### 1 mark"
   ]
  },
  {
   "cell_type": "code",
   "execution_count": 25,
   "id": "066cb7b0",
   "metadata": {},
   "outputs": [],
   "source": [
    "# valid lines are:\n",
    "#\n",
    "#\n",
    "#"
   ]
  },
  {
   "cell_type": "markdown",
   "id": "cdd0f860",
   "metadata": {},
   "source": [
    "----"
   ]
  },
  {
   "cell_type": "markdown",
   "id": "947a4459",
   "metadata": {},
   "source": [
    "**Q6** The body adiposity index or **BAI** is calculated using the following formula:\n",
    "\n",
    "$$ \\frac{c}{h^{1.5}} -18 $$ \n",
    "\n",
    "where:\n",
    " - $~~~~~~~~~c~~$ is hip circumference in cm\n",
    " - $~~~~~~~~~h~~$ is height in m\n",
    "\n",
    "i) A person is measured to have the following height and hip circumference. Use Python code to calculate their **BAI**.\n",
    "\n",
    "|  |  |\n",
    "|--|--|\n",
    "| Height | 1.43 m  |\n",
    "| Hip circumference  | 97 cm |\n",
    "\n",
    "##### 1 mark"
   ]
  },
  {
   "cell_type": "code",
   "execution_count": null,
   "id": "2331ade1",
   "metadata": {},
   "outputs": [],
   "source": [
    "\n",
    "\n",
    "\n"
   ]
  },
  {
   "cell_type": "markdown",
   "id": "b716c2a7",
   "metadata": {},
   "source": [
    "----"
   ]
  },
  {
   "cell_type": "markdown",
   "id": "263130d8",
   "metadata": {},
   "source": [
    "**Q7** An experiment measures the weight of a mouse, and records its weight in grams week-by-week.\n",
    "\n",
    "```python\n",
    "w = [ 19.2, 20.4, 21.1, 20.9, 21.0 ]\n",
    "```\n",
    "\n",
    "i) Write code to select the last item in the list regardless of the number of entries and store this in variable `w_last`\n",
    "\n",
    "##### 1 mark"
   ]
  },
  {
   "cell_type": "code",
   "execution_count": 26,
   "id": "261a7124",
   "metadata": {},
   "outputs": [],
   "source": [
    "# starter code\n",
    "w = [ 19.2, 20.4, 21.1, 20.9, 21.0 ]\n",
    "\n",
    "# add your code below\n",
    "\n",
    "\n"
   ]
  },
  {
   "cell_type": "markdown",
   "id": "28a9850d",
   "metadata": {},
   "source": [
    "**Q7 cont.**\n",
    "\n",
    "ii) Start with the following Python code:\n",
    "\n",
    "```python\n",
    "w_last = 21.0\n",
    "w_now = 23.5\n",
    "```\n",
    "\n",
    "Write code that compares variable `w_last` to a the current measurement `w_now`  and displays one of the following messages as appropriate:\n",
    "\n",
    "```\n",
    "mouse lost weight.\n",
    "mouse gained weight.\n",
    "mouse weight is unchanged.\n",
    "```\n",
    "\n",
    "##### 2 mark\n",
    "\n",
    "iii) Next add a check that will display\n",
    "\n",
    "```\n",
    "Check weight again!\n",
    "```\n",
    "\n",
    "If the current weight stored in `w_now` is below (or equal to) to 10 grams or over (or equal to) 30 grams.\n",
    "\n",
    "##### 1 mark"
   ]
  },
  {
   "cell_type": "code",
   "execution_count": 27,
   "id": "71e6028c",
   "metadata": {},
   "outputs": [],
   "source": [
    "# starter code\n",
    "w_last = 21.0\n",
    "w_now = 23.5\n",
    "\n",
    "# add your code below\n",
    "\n",
    "\n",
    "\n"
   ]
  },
  {
   "cell_type": "markdown",
   "id": "cc4c0fa9",
   "metadata": {},
   "source": [
    "----"
   ]
  },
  {
   "cell_type": "markdown",
   "id": "c43aaaa9",
   "metadata": {},
   "source": [
    "**Q8**\n",
    "The following Python code defines two lists: `months` containing the 12 months of the year; and `days` containing the number of days that each of the 12 months have.\n",
    "\n",
    "```python\n",
    "months =  [ 'Jan', 'Feb', 'Mar',\n",
    "\t\t\t'Apr', 'May', 'Jun', \n",
    "\t\t\t'Jul', 'Aug', 'Sep',\n",
    "\t\t\t'Oct', 'Nov', 'Dec']\n",
    "\t\t\t\t\t\n",
    "days = [31, 28, 31, 30, 30, 30, 31, 31, 30, 31, 30, 31]\n",
    "```\n",
    "There is an error in the data used to create list `days`: the value for May  should have been entered as `31`.\n",
    "\n",
    "**i)** Which list index does this correspond to? \n",
    "\n",
    "**ii)** Write a line of code which will update this entry in  `days` so that it will take the correct value. \n",
    "\n",
    "**iii)** Write a loop that will display the following:\n",
    "  \n",
    " ```python \n",
    "Jan has 31 days\n",
    "Feb has 28 days\n",
    "Mar has 31 days\n",
    "```\n",
    "\n",
    "... and so on.\n",
    "##### 4 marks"
   ]
  },
  {
   "cell_type": "code",
   "execution_count": 28,
   "id": "641554d6",
   "metadata": {},
   "outputs": [],
   "source": [
    "# starter code\n",
    "months =  [ 'Jan', 'Feb', 'Mar',\n",
    "            'Apr', 'May', 'Jun', \n",
    "            'Jul', 'Aug', 'Sep',\n",
    "            'Oct', 'Nov', 'Dec']\n",
    "\n",
    "days = [31, 28, 31, 30, 30, 30, 31, 31, 30, 31, 30, 31]\n",
    "\n",
    "# add your code below\n",
    "\n",
    "\n",
    "\n",
    "\n"
   ]
  },
  {
   "cell_type": "markdown",
   "id": "7e46a4fb",
   "metadata": {},
   "source": [
    "----"
   ]
  },
  {
   "cell_type": "markdown",
   "id": "a1ac2596",
   "metadata": {},
   "source": [
    "**Q9** The logistic map is a sequence defined by the relation:\n",
    "\n",
    "$$ x_{n+1} = r \\times x_n \\times (1 - x_n)$$\n",
    "\n",
    "where $r$ is a constant.\n",
    "\n",
    "As an example we will find the sequence for $r=1.2$ and $x_1 = 0.5$\n",
    "\n",
    "$x_2 = ~~~r \\times  ~x_1  \\times ~ (1 - x_1)$\n",
    "\n",
    "$~~~~~= 1.2\\times 0.1\\times (1-0.1)$\n",
    "\n",
    "$~~~~~=0.108$\n",
    "\n",
    "Write a for loop in Python that calculates the first 10 terms in the sequence with $r=3.5$ and $x_1 = 0.5$.\n",
    "\n",
    "Your code should display the result of each step to 4 decimal places using the following format:\n",
    "\n",
    "```\n",
    "x1 is 0.5000\n",
    "x2 is 0.8750\n",
    "x3 is 0.3828\n",
    "x4 is 0.8269\n",
    "```\n",
    "... and so on.\n",
    "##### 4 marks"
   ]
  },
  {
   "cell_type": "code",
   "execution_count": null,
   "id": "e7b63b6b",
   "metadata": {},
   "outputs": [],
   "source": [
    "\n",
    "\n",
    "\n",
    "\n"
   ]
  },
  {
   "cell_type": "markdown",
   "id": "08756d77",
   "metadata": {},
   "source": [
    "----"
   ]
  },
  {
   "cell_type": "markdown",
   "id": "41f6ecaa",
   "metadata": {},
   "source": [
    "**Q10**\n",
    "\n",
    "The following code defines some examples of *kaomoji* an early  form of text based emoji.\n",
    "\n",
    "\n",
    "`happyface = \"  \\(^o^)/  \"`\n",
    "\n",
    "`asleepface = \"  (-_-)zzz   \"`\n",
    "\n",
    "`sadface = \"  (; _ ;)  \"`\n",
    "\n",
    "**i)** Write code that creates a dictionary called emoji_lookup that has the three keys:\n",
    "\n",
    "`\"happy\"`  `\"asleep\"`, `\"sad\"`\n",
    "\n",
    "with values that correspond to the kaomoji defined above.\n",
    "\n",
    "\n",
    "**ii)** Show how the following emoticon for `\"tired\"` could be inserted into the dictionary after it has been created.\n",
    "\n",
    "```tiredface = \"  (=_=)  \"```\n",
    "\n",
    "**iii)** Complete the code below showing how the dictionary \n",
    "could be inserted into the f-string to display an emoji.\n",
    "\n",
    "`print(f\"Today I am mostly \")`\n",
    "\n",
    "##### 3 marks"
   ]
  },
  {
   "cell_type": "code",
   "execution_count": null,
   "id": "7f9958f5",
   "metadata": {},
   "outputs": [],
   "source": [
    "\n",
    "\n",
    "\n"
   ]
  },
  {
   "cell_type": "markdown",
   "id": "765686d5",
   "metadata": {},
   "source": [
    "----"
   ]
  },
  {
   "cell_type": "markdown",
   "id": "538064fb",
   "metadata": {},
   "source": [
    "**Q11** The following Python code demonstrates how to generate a random \"dice roll\" by selecting at random an integer between 1 and 6. \n",
    "\n",
    "```\n",
    "import random\n",
    "a = random.randint(1,6)\n",
    "print(a)\n",
    "```\n",
    "\n",
    "Define a function `roll_two_dice` that simulates the result of rolling two dice and returns the total roll.\n",
    "\n",
    "e.g. if function is called and generates random dice roll of 3 and 4 then it should return the total roll value of 7.\n",
    "\n",
    "Include a line that demonstrates how the function can be called.\n",
    "\n",
    "##### 3 marks"
   ]
  },
  {
   "cell_type": "code",
   "execution_count": null,
   "id": "6801b084",
   "metadata": {},
   "outputs": [],
   "source": [
    "\n",
    "\n",
    "\n"
   ]
  },
  {
   "cell_type": "markdown",
   "id": "b40fc60a",
   "metadata": {},
   "source": [
    "----"
   ]
  },
  {
   "cell_type": "markdown",
   "id": "90aad4ee",
   "metadata": {},
   "source": [
    "**Q12**\n",
    "\n",
    "**i)** Write code that defines a class named `BodyCell` which will create objects that are initialised using the following attributes:\n",
    "\n",
    "`name`, `system`, `number`, `lifetime`, `volume`\n",
    "\n",
    "**ii)** Write code which demonstrates how to use this code to create the `BodyCell` object `cell1`, creating it with the following attributes:\n",
    "|  |  |\n",
    "|--|--|\n",
    "| name: | cardiomyocyte |\n",
    "| system: | heart |\n",
    "| number: | $2\\times 10^9$ |\n",
    "| lifetime: (days) | 7300 |\n",
    "| volume: ($\\mu$m) | 15,000 |\n",
    "\n",
    "**iii)** Add to your class a method `get_lifetime_in_years` that returns the lifetime in years. \n",
    "\n",
    "Write a short example of how to use this method.\n",
    "\n",
    "##### 5 marks"
   ]
  },
  {
   "cell_type": "code",
   "execution_count": null,
   "id": "0baea777",
   "metadata": {},
   "outputs": [],
   "source": [
    "\n",
    "\n",
    "\n"
   ]
  },
  {
   "cell_type": "markdown",
   "id": "29bb822d",
   "metadata": {},
   "source": [
    "----"
   ]
  },
  {
   "cell_type": "markdown",
   "id": "f661f08d",
   "metadata": {},
   "source": [
    "**Q13**\n",
    "\n",
    "##### 11 marks total\n",
    "\n",
    "**Scrabble Word Checker** \n",
    "\n",
    "In a game a players is given a rack of 8 random letters, \n",
    "and must use these to spell words of 2 letters or more.\n",
    "\n",
    "e.g. a player with rack `RBATSPOD` could form words including:\n",
    "    `AT`, `SPORT`, `BAT`, `TO`, `TRAPS` etc.\n",
    "\n",
    "A programmer wishes to write a Python program to help them play.\n",
    "\n",
    "To do this they plan to use the file `all_the_words.txt`. This contains every word in the English dictionary, with each word on a separate line.\n",
    "\n",
    "For coding purposes they decide to first work with \n",
    "the file `some_words.txt` that contains a sample of 40 words taken from the full list.\n",
    "\n",
    "Start by working with the file `some_words.txt`.\n",
    "\n",
    "**i)** Write Python code to load in the words contained in the file storing them as a list called `all_words`. \n",
    "\n",
    "You should ensure newline characters are removed from \n",
    "the loaded words using a command such as:\n",
    "\n",
    "`word = word.replace(\"\\n\",\"\") `\n",
    "\n",
    "Include code to check that the loaded list contains 40 entries."
   ]
  },
  {
   "cell_type": "code",
   "execution_count": null,
   "id": "63bc031f",
   "metadata": {},
   "outputs": [],
   "source": [
    "\n",
    "\n",
    "\n"
   ]
  },
  {
   "cell_type": "markdown",
   "id": "703ae339",
   "metadata": {},
   "source": [
    "ii) The player is interested in finding the longest possible words. \n",
    "\n",
    "Write Python code that examines entries in a given word list and uses it to create a second filtered list called `long_words` that only contains words with exactly 8 letters.\n",
    "\n",
    "You can test your code works using the following list:\n",
    "    \n",
    "`random_words = [ 'an', 'aardvark',  'and', 'aunt', 'annotate', 'ants' ]`\n",
    "\n",
    "which should lead to filtered list:\n",
    "    \n",
    "`long_words = [ 'aardvark',  'annotate' ]`"
   ]
  },
  {
   "cell_type": "code",
   "execution_count": 29,
   "id": "ff495d84",
   "metadata": {},
   "outputs": [],
   "source": [
    "# starter code\n",
    "random_words = [ 'an', 'aardvark',  'and', 'aunt', 'annotate', 'ants' ]\n",
    "\n",
    "# add your code below\n",
    "\n",
    "\n"
   ]
  },
  {
   "cell_type": "markdown",
   "id": "5ee6313d",
   "metadata": {},
   "source": [
    "iii) Look at the following code. This checks if a given word can be made from the letters contained in the players rack.\n",
    "\n",
    "```python\n",
    "rack = \"RBATSPO\"\n",
    "word = \"BATS\"\n",
    "\n",
    "rack_list = list(rack) # create a list of letters in the rack string\n",
    "\n",
    "can_spell = True\n",
    "for letter in word:\n",
    "    if letter in rack_list:\n",
    "        i = rack_list.index(letter)\n",
    "        rack_list.pop(i)\n",
    "    else:\n",
    "        can_spell = False\n",
    "        break\n",
    "\n",
    "if can_spell is False:\n",
    "    print(\"You CAN spell\",word,\"using\",rack)\n",
    "else:\n",
    "    print(\"You CANNOT spell\",word,\"using\",rack)\n",
    "```\n",
    "\n",
    "Use this code to create a function `word_checker`\n",
    "that takes two arguments `rack` and `word` and returns a boolean `True` or `False` value as appropriate, but does not print any message. "
   ]
  },
  {
   "cell_type": "code",
   "execution_count": null,
   "id": "930dbcad",
   "metadata": {},
   "outputs": [],
   "source": [
    "\n",
    "\n",
    "\n"
   ]
  },
  {
   "cell_type": "markdown",
   "id": "9420809c",
   "metadata": {},
   "source": [
    "iv) Write code to loops over the list of words `all_words` from `some_words.txt` and \n",
    "displays the words that can be created from the rack letters `RBATSPOD`."
   ]
  },
  {
   "cell_type": "code",
   "execution_count": null,
   "id": "cf5b600a",
   "metadata": {},
   "outputs": [],
   "source": [
    "\n",
    "\n",
    "\n"
   ]
  },
  {
   "cell_type": "markdown",
   "id": "4f2e6128",
   "metadata": {},
   "source": [
    "v)  Use the code you have written with file `all_the_words.txt` to find all 8 letter valid words can be made from the rack letters: `SDEINFIH`"
   ]
  },
  {
   "cell_type": "code",
   "execution_count": null,
   "id": "7d580063",
   "metadata": {},
   "outputs": [],
   "source": [
    "\n",
    "\n",
    "\n"
   ]
  }
 ],
 "metadata": {
  "kernelspec": {
   "display_name": "Python 3 (ipykernel)",
   "language": "python",
   "name": "python3"
  },
  "language_info": {
   "codemirror_mode": {
    "name": "ipython",
    "version": 3
   },
   "file_extension": ".py",
   "mimetype": "text/x-python",
   "name": "python",
   "nbconvert_exporter": "python",
   "pygments_lexer": "ipython3",
   "version": "3.8.11"
  }
 },
 "nbformat": 4,
 "nbformat_minor": 5
}
