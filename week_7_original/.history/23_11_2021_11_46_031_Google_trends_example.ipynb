{
 "cells": [
  {
   "cell_type": "code",
   "execution_count": 3,
   "id": "7194a214",
   "metadata": {},
   "outputs": [],
   "source": [
    "import numpy as np\n",
    "import pandas as pd\n",
    "import matplotlib.pyplot as plt\n",
    "from scipy.stats import linregress\n",
    "import os"
   ]
  },
  {
   "cell_type": "code",
   "execution_count": 12,
   "id": "37c3da7a",
   "metadata": {},
   "outputs": [
    {
     "data": {
      "text/html": [
       "<div>\n",
       "<style scoped>\n",
       "    .dataframe tbody tr th:only-of-type {\n",
       "        vertical-align: middle;\n",
       "    }\n",
       "\n",
       "    .dataframe tbody tr th {\n",
       "        vertical-align: top;\n",
       "    }\n",
       "\n",
       "    .dataframe thead th {\n",
       "        text-align: right;\n",
       "    }\n",
       "</style>\n",
       "<table border=\"1\" class=\"dataframe\">\n",
       "  <thead>\n",
       "    <tr style=\"text-align: right;\">\n",
       "      <th></th>\n",
       "      <th>week</th>\n",
       "      <th>flu_symptoms</th>\n",
       "      <th>flu_jab</th>\n",
       "      <th>flu</th>\n",
       "    </tr>\n",
       "  </thead>\n",
       "  <tbody>\n",
       "    <tr>\n",
       "      <th>0</th>\n",
       "      <td>2010-05-02</td>\n",
       "      <td>&lt;1</td>\n",
       "      <td>&lt;1</td>\n",
       "      <td>4</td>\n",
       "    </tr>\n",
       "    <tr>\n",
       "      <th>1</th>\n",
       "      <td>2010-05-09</td>\n",
       "      <td>1</td>\n",
       "      <td>&lt;1</td>\n",
       "      <td>5</td>\n",
       "    </tr>\n",
       "    <tr>\n",
       "      <th>2</th>\n",
       "      <td>2010-05-16</td>\n",
       "      <td>1</td>\n",
       "      <td>0</td>\n",
       "      <td>4</td>\n",
       "    </tr>\n",
       "    <tr>\n",
       "      <th>3</th>\n",
       "      <td>2010-05-23</td>\n",
       "      <td>1</td>\n",
       "      <td>&lt;1</td>\n",
       "      <td>5</td>\n",
       "    </tr>\n",
       "    <tr>\n",
       "      <th>4</th>\n",
       "      <td>2010-05-30</td>\n",
       "      <td>1</td>\n",
       "      <td>0</td>\n",
       "      <td>3</td>\n",
       "    </tr>\n",
       "  </tbody>\n",
       "</table>\n",
       "</div>"
      ],
      "text/plain": [
       "         week flu_symptoms flu_jab  flu\n",
       "0  2010-05-02           <1      <1    4\n",
       "1  2010-05-09            1      <1    5\n",
       "2  2010-05-16            1       0    4\n",
       "3  2010-05-23            1      <1    5\n",
       "4  2010-05-30            1       0    3"
      ]
     },
     "execution_count": 12,
     "metadata": {},
     "output_type": "execute_result"
    }
   ],
   "source": [
    "\n",
    "data_path = os.path.join(\"data\", \"fludata.csv\")\n",
    "#print(data_path)\n",
    "\n",
    "flu_df = pd.read_csv(data_path)\n",
    "flu_df.head()"
   ]
  },
  {
   "cell_type": "code",
   "execution_count": 13,
   "id": "4d6d9e18",
   "metadata": {},
   "outputs": [
    {
     "name": "stdout",
     "output_type": "stream",
     "text": [
      "<class 'pandas.core.frame.DataFrame'>\n",
      "RangeIndex: 245 entries, 0 to 244\n",
      "Data columns (total 4 columns):\n",
      " #   Column        Non-Null Count  Dtype \n",
      "---  ------        --------------  ----- \n",
      " 0   week          245 non-null    object\n",
      " 1   flu_symptoms  245 non-null    object\n",
      " 2   flu_jab       245 non-null    object\n",
      " 3   flu           245 non-null    int64 \n",
      "dtypes: int64(1), object(3)\n",
      "memory usage: 7.8+ KB\n"
     ]
    }
   ],
   "source": [
    "flu_df.info()"
   ]
  },
  {
   "cell_type": "code",
   "execution_count": 14,
   "id": "005e689d",
   "metadata": {},
   "outputs": [
    {
     "data": {
      "text/plain": [
       "0     <1\n",
       "7     <1\n",
       "8     <1\n",
       "10    <1\n",
       "11    <1\n",
       "13    <1\n",
       "Name: flu_symptoms, dtype: object"
      ]
     },
     "execution_count": 14,
     "metadata": {},
     "output_type": "execute_result"
    }
   ],
   "source": [
    "flu_df.flu_symptoms[  flu_df.flu_symptoms=='<1' ]"
   ]
  },
  {
   "cell_type": "code",
   "execution_count": null,
   "id": "f69044d6",
   "metadata": {},
   "outputs": [],
   "source": []
  }
 ],
 "metadata": {
  "kernelspec": {
   "display_name": "Python 3 (ipykernel)",
   "language": "python",
   "name": "python3"
  },
  "language_info": {
   "codemirror_mode": {
    "name": "ipython",
    "version": 3
   },
   "file_extension": ".py",
   "mimetype": "text/x-python",
   "name": "python",
   "nbconvert_exporter": "python",
   "pygments_lexer": "ipython3",
   "version": "3.8.11"
  }
 },
 "nbformat": 4,
 "nbformat_minor": 5
}
