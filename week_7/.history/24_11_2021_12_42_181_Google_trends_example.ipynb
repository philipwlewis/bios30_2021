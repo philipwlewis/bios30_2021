{
 "cells": [
  {
   "cell_type": "markdown",
   "id": "e22e5c94",
   "metadata": {},
   "source": [
    "In the example document below we show how to load and visualise the Google Trends and WHO Flunet datasets.\n",
    "\n",
    "Changes to the demonstration in the lecture:\n",
    "\n",
    " - each search term result was downloaded seperately from the google trends website\n",
    " - period was May 2010 to May 2015 (Google only returns monthly summaries if you try to search for more than 5 years).\n",
    " - the full UK Flunet WHO data was downloaded (covers 1995 to present) and we use PANDAs to select the 5 years matching the Google Trends data.\n",
    " - the `read_csv` function call has been adapted to have argument `skiprows` that can skip the first lines in the datafile that are not part of the data table\n",
    " - we use the pandas `replace` function to change instances of `<1` to `0`\n",
    " - to make a fit that produces a formula to predict cases based on search terms we use the `ols` function from the `statsmethod` module."
   ]
  },
  {
   "cell_type": "markdown",
   "id": "f061fdb9",
   "metadata": {},
   "source": [
    "#### Preparing the workspace and downloading the data\n",
    "\n",
    "The following search term data was downloaded:\n",
    "\n",
    " - https://trends.google.com/trends/explore?date=2010-05-01%202015-05-01&geo=GB&q=flu\n",
    " - https://trends.google.com/trends/explore?date=2010-05-01%202015-05-01&geo=GB&q=flu_jab\n",
    " - https://trends.google.com/trends/explore?date=2010-05-01%202015-05-01&geo=GB&q=flu_symptoms\n",
    "\n",
    "(As Google scales the results to range 0-100 this means we keep more accuracy when looking for terms that have a relatively low search volume).\n",
    "\n",
    "Create a working directory `week_7` and store our notebook in this. Add a new subdirectory `data` where we save the output files. These are renames to:\n",
    "\n",
    " - `\"google_trends_flu.csv\"`\n",
    " - `\"google_trends_flu_jab.csv\"`\n",
    " - `\"google_trends_flu_symptoms.csv\"`\n",
    "\n",
    "To download the WHO Flunet data go to: https://www.who.int/tools/flunet\n",
    "\n",
    "Then click on link: <a href=\"http://apps.who.int/flumart/Default.aspx?ReportNo=7\">By country, area or territory - optional time period selection</a>\n",
    "\n",
    "Select `United Kingdom of Great Britain and Northern Ireland` from 1995 week 1 to 2021 week 53, and click `Display report`. \n",
    "\n",
    "When the chart appears click the *Save to disk* icon and select *CVS (comma delimited)*. \n",
    "\n",
    "Rename the downloaded file and save it into the `data` subdirectory.\n",
    "\n",
    "`who_flunet.csv`\n",
    "\n"
   ]
  },
  {
   "cell_type": "code",
   "execution_count": 458,
   "id": "7194a214",
   "metadata": {},
   "outputs": [],
   "source": [
    "# import libraries used by the notebook\n",
    "\n",
    "import numpy as np\n",
    "import pandas as pd\n",
    "import matplotlib.pyplot as plt\n",
    "from scipy.stats import linregress\n",
    "import os"
   ]
  },
  {
   "cell_type": "code",
   "execution_count": 460,
   "id": "c0017b48",
   "metadata": {},
   "outputs": [
    {
     "data": {
      "text/plain": [
       "'data/google_trends_original.csv'"
      ]
     },
     "execution_count": 460,
     "metadata": {},
     "output_type": "execute_result"
    }
   ],
   "source": [
    "data_path"
   ]
  },
  {
   "cell_type": "markdown",
   "id": "1110776f",
   "metadata": {},
   "source": [
    "We can either organise our data by putting it in our working directory, or if we have a lot of files we can put them in their own directory on our disk.\n"
   ]
  },
  {
   "cell_type": "code",
   "execution_count": 468,
   "id": "34972a42",
   "metadata": {},
   "outputs": [
    {
     "name": "stdout",
     "output_type": "stream",
     "text": [
      "<class 'pandas.core.frame.DataFrame'>\n",
      "RangeIndex: 261 entries, 0 to 260\n",
      "Data columns (total 2 columns):\n",
      " #   Column      Non-Null Count  Dtype \n",
      "---  ------      --------------  ----- \n",
      " 0   date        261 non-null    object\n",
      " 1   search_vol  261 non-null    int64 \n",
      "dtypes: int64(1), object(1)\n",
      "memory usage: 4.2+ KB\n"
     ]
    }
   ],
   "source": [
    "# generate a string containing the filepath to the file\n",
    "data_path = os.path.join(\"data\", \"google_trends_flu.csv\")\n",
    "# 'data/google_trends_original.csv'\n",
    "\n",
    "# load in the file.\n",
    "# skiprows=3 is used to skip the lines that do not contain the data\n",
    "# names=... is used to rename the columns\n",
    "flu_df = pd.read_csv(data_path, \n",
    "                     skiprows=3, \n",
    "                     names=['date','search_vol'])\n",
    "flu_df.info()"
   ]
  },
  {
   "cell_type": "code",
   "execution_count": 469,
   "id": "6f92dae4",
   "metadata": {},
   "outputs": [
    {
     "name": "stdout",
     "output_type": "stream",
     "text": [
      "<class 'pandas.core.frame.DataFrame'>\n",
      "RangeIndex: 261 entries, 0 to 260\n",
      "Data columns (total 2 columns):\n",
      " #   Column      Non-Null Count  Dtype         \n",
      "---  ------      --------------  -----         \n",
      " 0   date        261 non-null    datetime64[ns]\n",
      " 1   search_vol  261 non-null    int64         \n",
      "dtypes: datetime64[ns](1), int64(1)\n",
      "memory usage: 4.2 KB\n"
     ]
    }
   ],
   "source": [
    "# convert the date column from object type (storing strings) to datetime type\n",
    "flu_df.date = pd.to_datetime(flu_df.date)\n",
    "flu_df.info()"
   ]
  },
  {
   "cell_type": "code",
   "execution_count": 472,
   "id": "37c3da7a",
   "metadata": {},
   "outputs": [
    {
     "name": "stdout",
     "output_type": "stream",
     "text": [
      "<class 'pandas.core.frame.DataFrame'>\n",
      "RangeIndex: 261 entries, 0 to 260\n",
      "Data columns (total 2 columns):\n",
      " #   Column      Non-Null Count  Dtype         \n",
      "---  ------      --------------  -----         \n",
      " 0   date        261 non-null    datetime64[ns]\n",
      " 1   search_vol  261 non-null    float64       \n",
      "dtypes: datetime64[ns](1), float64(1)\n",
      "memory usage: 4.2 KB\n"
     ]
    }
   ],
   "source": [
    "# sometimes google trends enters writes `<1` to indicate \n",
    "# search volume was not zero but was less than 1\n",
    "\n",
    "# in this case we can replace this with 0 (otherwise we can't convert to a number) \n",
    "flu_df['search_vol'] = flu_df['search_vol'].replace('<1','0')\n",
    "\n",
    "# with this fixed we convert the search volume data to a 'float64'\n",
    "# meaning the standard Python float type\n",
    "flu_df['search_vol'] = flu_df['search_vol'].astype('float64')\n",
    "\n",
    "flu_df.info()"
   ]
  },
  {
   "cell_type": "code",
   "execution_count": 473,
   "id": "facd7086",
   "metadata": {},
   "outputs": [
    {
     "data": {
      "text/html": [
       "<div>\n",
       "<style scoped>\n",
       "    .dataframe tbody tr th:only-of-type {\n",
       "        vertical-align: middle;\n",
       "    }\n",
       "\n",
       "    .dataframe tbody tr th {\n",
       "        vertical-align: top;\n",
       "    }\n",
       "\n",
       "    .dataframe thead th {\n",
       "        text-align: right;\n",
       "    }\n",
       "</style>\n",
       "<table border=\"1\" class=\"dataframe\">\n",
       "  <thead>\n",
       "    <tr style=\"text-align: right;\">\n",
       "      <th></th>\n",
       "      <th>date</th>\n",
       "      <th>search_vol</th>\n",
       "    </tr>\n",
       "  </thead>\n",
       "  <tbody>\n",
       "    <tr>\n",
       "      <th>0</th>\n",
       "      <td>2010-05-02</td>\n",
       "      <td>6.0</td>\n",
       "    </tr>\n",
       "    <tr>\n",
       "      <th>1</th>\n",
       "      <td>2010-05-09</td>\n",
       "      <td>6.0</td>\n",
       "    </tr>\n",
       "    <tr>\n",
       "      <th>2</th>\n",
       "      <td>2010-05-16</td>\n",
       "      <td>7.0</td>\n",
       "    </tr>\n",
       "    <tr>\n",
       "      <th>3</th>\n",
       "      <td>2010-05-23</td>\n",
       "      <td>6.0</td>\n",
       "    </tr>\n",
       "    <tr>\n",
       "      <th>4</th>\n",
       "      <td>2010-05-30</td>\n",
       "      <td>5.0</td>\n",
       "    </tr>\n",
       "  </tbody>\n",
       "</table>\n",
       "</div>"
      ],
      "text/plain": [
       "        date  search_vol\n",
       "0 2010-05-02         6.0\n",
       "1 2010-05-09         6.0\n",
       "2 2010-05-16         7.0\n",
       "3 2010-05-23         6.0\n",
       "4 2010-05-30         5.0"
      ]
     },
     "execution_count": 473,
     "metadata": {},
     "output_type": "execute_result"
    }
   ],
   "source": [
    "flu_df.head()"
   ]
  },
  {
   "cell_type": "code",
   "execution_count": 474,
   "id": "32bc75dc",
   "metadata": {},
   "outputs": [
    {
     "data": {
      "text/html": [
       "<div>\n",
       "<style scoped>\n",
       "    .dataframe tbody tr th:only-of-type {\n",
       "        vertical-align: middle;\n",
       "    }\n",
       "\n",
       "    .dataframe tbody tr th {\n",
       "        vertical-align: top;\n",
       "    }\n",
       "\n",
       "    .dataframe thead th {\n",
       "        text-align: right;\n",
       "    }\n",
       "</style>\n",
       "<table border=\"1\" class=\"dataframe\">\n",
       "  <thead>\n",
       "    <tr style=\"text-align: right;\">\n",
       "      <th></th>\n",
       "      <th>date</th>\n",
       "      <th>search_vol</th>\n",
       "    </tr>\n",
       "  </thead>\n",
       "  <tbody>\n",
       "    <tr>\n",
       "      <th>0</th>\n",
       "      <td>2010-05-02</td>\n",
       "      <td>0.06</td>\n",
       "    </tr>\n",
       "    <tr>\n",
       "      <th>1</th>\n",
       "      <td>2010-05-09</td>\n",
       "      <td>0.06</td>\n",
       "    </tr>\n",
       "    <tr>\n",
       "      <th>2</th>\n",
       "      <td>2010-05-16</td>\n",
       "      <td>0.07</td>\n",
       "    </tr>\n",
       "    <tr>\n",
       "      <th>3</th>\n",
       "      <td>2010-05-23</td>\n",
       "      <td>0.06</td>\n",
       "    </tr>\n",
       "    <tr>\n",
       "      <th>4</th>\n",
       "      <td>2010-05-30</td>\n",
       "      <td>0.05</td>\n",
       "    </tr>\n",
       "  </tbody>\n",
       "</table>\n",
       "</div>"
      ],
      "text/plain": [
       "        date  search_vol\n",
       "0 2010-05-02        0.06\n",
       "1 2010-05-09        0.06\n",
       "2 2010-05-16        0.07\n",
       "3 2010-05-23        0.06\n",
       "4 2010-05-30        0.05"
      ]
     },
     "execution_count": 474,
     "metadata": {},
     "output_type": "execute_result"
    }
   ],
   "source": [
    "# to compare across data sets we will rescale to normalise\n",
    "# the data by dividing by the maximum value so all values are between 0 and 1\n",
    "\n",
    "flu_df['search_vol'] = flu_df['search_vol']/flu_df['search_vol'].max()\n",
    "\n",
    "flu_df.head()"
   ]
  },
  {
   "cell_type": "code",
   "execution_count": 477,
   "id": "97c5ce41",
   "metadata": {},
   "outputs": [
    {
     "data": {
      "image/png": "[encoded data removed]",
      "text/plain": [
       "<Figure size 432x288 with 1 Axes>"
      ]
     },
     "metadata": {
      "needs_background": "light"
     },
     "output_type": "display_data"
    }
   ],
   "source": [
    "ax = flu_df.plot(x='date', y='search_vol')"
   ]
  },
  {
   "cell_type": "code",
   "execution_count": 480,
   "id": "cdd16ca4",
   "metadata": {},
   "outputs": [],
   "source": [
    "# load in google trends data for searches for `flu`\n",
    "data_path = os.path.join(\"data\", \"google_trends_flu.csv\")\n",
    "\n",
    "gtrends_df = pd.read_csv(data_path, \n",
    "                     skiprows = 3, \n",
    "                     names = ['date', 'search_vol'])\n",
    "\n",
    "gtrends_df.date = pd.to_datetime(gtrends_df.date)\n",
    "\n",
    "gtrends_df['search_vol'] = gtrends_df['search_vol'].replace('<1','0')\n",
    "\n",
    "gtrends_df['search_vol'] = gtrends_df['search_vol'].astype('float64')\n",
    "\n",
    "gtrends_df['search_vol'] = gtrends_df['search_vol'] / gtrends_df['search_vol'].max()\n",
    "\n",
    "# we will repeat the code above to load in other files\n",
    "# to avoid overwriting our dataframe we rename it as gtrends_flu_df \n",
    "gtrends_flu_df = gtrends_df"
   ]
  },
  {
   "cell_type": "code",
   "execution_count": 481,
   "id": "26ba6ac7",
   "metadata": {},
   "outputs": [],
   "source": [
    "# load in google trends data for searches for `flu jab`\n",
    "data_path = os.path.join(\"data\", \"google_trends_flu_jab.csv\")\n",
    "\n",
    "gtrends_df = pd.read_csv(data_path, \n",
    "                     skiprows = 3, \n",
    "                     names = ['date', 'search_vol'])\n",
    "\n",
    "gtrends_df.date = pd.to_datetime(gtrends_df.date)\n",
    "\n",
    "gtrends_df['search_vol'] = gtrends_df['search_vol'].replace('<1','0')\n",
    "\n",
    "gtrends_df['search_vol'] = gtrends_df['search_vol'].astype('float64')\n",
    "\n",
    "gtrends_df['search_vol'] = gtrends_df['search_vol'] / gtrends_df['search_vol'].max()\n",
    "\n",
    "# rename as gtrends_flu_jab_df \n",
    "gtrends_flu_jab_df = gtrends_df"
   ]
  },
  {
   "cell_type": "code",
   "execution_count": 495,
   "id": "c4a53aaa",
   "metadata": {},
   "outputs": [],
   "source": [
    "# load in google trends data for searches for `flu symptoms`\n",
    "data_path = os.path.join(\"data\", \"google_trends_flu_symptoms.csv\")\n",
    "\n",
    "gtrends_df = pd.read_csv(data_path, \n",
    "                     skiprows = 3, \n",
    "                     names = ['date', 'search_vol'])\n",
    "\n",
    "gtrends_df.date = pd.to_datetime(gtrends_df.date)\n",
    "\n",
    "gtrends_df['search_vol'] = gtrends_df['search_vol'].replace('<1','0')\n",
    "\n",
    "gtrends_df['search_vol'] = gtrends_df['search_vol'].astype('float64')\n",
    "\n",
    "gtrends_df['search_vol'] = gtrends_df['search_vol'] / gtrends_df['search_vol'].max()\n",
    "\n",
    "# rename as gtrends_flu_symptoms_df \n",
    "gtrends_flu_symptoms_df = gtrends_df"
   ]
  },
  {
   "cell_type": "code",
   "execution_count": 496,
   "id": "63bf496a",
   "metadata": {},
   "outputs": [
    {
     "data": {
      "text/html": [
       "<div>\n",
       "<style scoped>\n",
       "    .dataframe tbody tr th:only-of-type {\n",
       "        vertical-align: middle;\n",
       "    }\n",
       "\n",
       "    .dataframe tbody tr th {\n",
       "        vertical-align: top;\n",
       "    }\n",
       "\n",
       "    .dataframe thead th {\n",
       "        text-align: right;\n",
       "    }\n",
       "</style>\n",
       "<table border=\"1\" class=\"dataframe\">\n",
       "  <thead>\n",
       "    <tr style=\"text-align: right;\">\n",
       "      <th></th>\n",
       "      <th>flu</th>\n",
       "      <th>flu_jab</th>\n",
       "      <th>flu_symptoms</th>\n",
       "    </tr>\n",
       "    <tr>\n",
       "      <th>date</th>\n",
       "      <th></th>\n",
       "      <th></th>\n",
       "      <th></th>\n",
       "    </tr>\n",
       "  </thead>\n",
       "  <tbody>\n",
       "    <tr>\n",
       "      <th>2010-05-02</th>\n",
       "      <td>0.06</td>\n",
       "      <td>0.00</td>\n",
       "      <td>0.02</td>\n",
       "    </tr>\n",
       "    <tr>\n",
       "      <th>2010-05-09</th>\n",
       "      <td>0.06</td>\n",
       "      <td>0.01</td>\n",
       "      <td>0.04</td>\n",
       "    </tr>\n",
       "    <tr>\n",
       "      <th>2010-05-16</th>\n",
       "      <td>0.07</td>\n",
       "      <td>0.00</td>\n",
       "      <td>0.05</td>\n",
       "    </tr>\n",
       "    <tr>\n",
       "      <th>2010-05-23</th>\n",
       "      <td>0.06</td>\n",
       "      <td>0.01</td>\n",
       "      <td>0.06</td>\n",
       "    </tr>\n",
       "    <tr>\n",
       "      <th>2010-05-30</th>\n",
       "      <td>0.05</td>\n",
       "      <td>0.00</td>\n",
       "      <td>0.01</td>\n",
       "    </tr>\n",
       "    <tr>\n",
       "      <th>...</th>\n",
       "      <td>...</td>\n",
       "      <td>...</td>\n",
       "      <td>...</td>\n",
       "    </tr>\n",
       "    <tr>\n",
       "      <th>2015-03-29</th>\n",
       "      <td>0.11</td>\n",
       "      <td>0.01</td>\n",
       "      <td>0.08</td>\n",
       "    </tr>\n",
       "    <tr>\n",
       "      <th>2015-04-05</th>\n",
       "      <td>0.09</td>\n",
       "      <td>0.00</td>\n",
       "      <td>0.09</td>\n",
       "    </tr>\n",
       "    <tr>\n",
       "      <th>2015-04-12</th>\n",
       "      <td>0.08</td>\n",
       "      <td>0.01</td>\n",
       "      <td>0.06</td>\n",
       "    </tr>\n",
       "    <tr>\n",
       "      <th>2015-04-19</th>\n",
       "      <td>0.08</td>\n",
       "      <td>0.01</td>\n",
       "      <td>0.07</td>\n",
       "    </tr>\n",
       "    <tr>\n",
       "      <th>2015-04-26</th>\n",
       "      <td>0.06</td>\n",
       "      <td>0.01</td>\n",
       "      <td>0.03</td>\n",
       "    </tr>\n",
       "  </tbody>\n",
       "</table>\n",
       "<p>261 rows × 3 columns</p>\n",
       "</div>"
      ],
      "text/plain": [
       "             flu  flu_jab  flu_symptoms\n",
       "date                                   \n",
       "2010-05-02  0.06     0.00          0.02\n",
       "2010-05-09  0.06     0.01          0.04\n",
       "2010-05-16  0.07     0.00          0.05\n",
       "2010-05-23  0.06     0.01          0.06\n",
       "2010-05-30  0.05     0.00          0.01\n",
       "...          ...      ...           ...\n",
       "2015-03-29  0.11     0.01          0.08\n",
       "2015-04-05  0.09     0.00          0.09\n",
       "2015-04-12  0.08     0.01          0.06\n",
       "2015-04-19  0.08     0.01          0.07\n",
       "2015-04-26  0.06     0.01          0.03\n",
       "\n",
       "[261 rows x 3 columns]"
      ]
     },
     "execution_count": 496,
     "metadata": {},
     "output_type": "execute_result"
    }
   ],
   "source": [
    "# make a combined dataframe storing the results of each search term\n",
    "# by taking the columns out of the three dataframes we have loaded\n",
    "\n",
    "data_cols = [ gtrends_flu_df['date'], \n",
    "             gtrends_flu_df['search_vol'], \n",
    "             gtrends_flu_jab_df['search_vol'],\n",
    "             gtrends_flu_symptoms_df['search_vol'] ]\n",
    "\n",
    "# we use .concat to concatenate or join the columns together\n",
    "# using axis=1 means stack columns together,\n",
    "# (alternatively we can use axis=0 to stack rows together)\n",
    "\n",
    "flu_df = pd.concat(data_cols,axis=1)\n",
    "\n",
    "# rename the columns by search term\n",
    "\n",
    "flu_df.columns = ['date', 'flu', 'flu_jab', 'flu_symptoms']\n",
    "\n",
    "# use the date column as the index labels\n",
    "\n",
    "flu_df = flu_df.set_index('date') \n",
    "flu_df"
   ]
  },
  {
   "cell_type": "code",
   "execution_count": 497,
   "id": "afaafd72",
   "metadata": {},
   "outputs": [
    {
     "data": {
      "image/png": "[encoded data removed]",
      "text/plain": [
       "<Figure size 432x288 with 1 Axes>"
      ]
     },
     "metadata": {
      "needs_background": "light"
     },
     "output_type": "display_data"
    }
   ],
   "source": [
    "# by default the .plot uses the index labels for the x-data\n",
    "# and plots each column as a y-data series\n",
    "\n",
    "ax = flu_df.plot()"
   ]
  },
  {
   "cell_type": "markdown",
   "id": "5ff3b0ff",
   "metadata": {},
   "source": [
    "Now we can load in the WHO Flunet data. \n",
    "\n",
    "If we look in the downloaded file, we can see that the files produced by the WHO website has some issues:\n",
    "\n",
    " - it does not use sensible column heading names\n",
    " - column headings are not in a sensible order (year and week might be placed first)\n",
    " - it contains unnecessary columns storing the strain names (these could be indicated by column heading).\n",
    "\n",
    "If you dig into the data we see:\n",
    "    \n",
    " - col 1 stores label `AH5`\n",
    " - col 2 stores year\n",
    " - col 3 stores week\n",
    " - col 4 stores counts of `AH5`\n",
    " \n",
    "Then the data falls into a pattern storing a column containing a strain label, followed by a column of counts.\n",
    "\n",
    "The code below loads the data, skipping the non-data lines, and specifying simpler and more accurate column names. \n",
    "\n",
    "It then adds a date column from the year and week information (there is a PANDAs function for this).\n",
    "\n",
    "Finally we select only the useful columns (date and strain counts) to produce a final better organised WHO dataset."
   ]
  },
  {
   "cell_type": "code",
   "execution_count": 500,
   "id": "04eb7ee7",
   "metadata": {},
   "outputs": [],
   "source": [
    "data_path = os.path.join(\"data\", \"who_flunet_uk.csv\")\n",
    "\n",
    "colnames = [ 'a_h5_label', 'year', 'week', 'a_h5',\n",
    "             'a_h1_label', 'a_h1',\n",
    "             'a_h1n1_label', 'a_h1n1',\n",
    "             'a_h3_label', 'a_h3',\n",
    "             'a_notsubtyped_label', 'a_notsubtyped',\n",
    "             'b_yamagata_label', 'b_yamagata',\n",
    "             'b_victoria_label', 'b_victoria',\n",
    "             'b_notdetermined_label', 'b_notdetermined' ]\n",
    "\n",
    "who_df = pd.read_csv(data_path, skiprows=4, names= colnames) "
   ]
  },
  {
   "cell_type": "code",
   "execution_count": 502,
   "id": "6774e56c",
   "metadata": {},
   "outputs": [],
   "source": [
    "date_vals = []\n",
    "\n",
    "for i in range(len(who_df)):\n",
    "    year = who_df.year[i]\n",
    "    week_num = who_df.week[i]\n",
    "    entry_date = pd.Timestamp.fromisocalendar(year,week_num,1)\n",
    "    date_vals.append(entry_date)\n",
    "\n",
    "who_df.index = date_vals"
   ]
  },
  {
   "cell_type": "code",
   "execution_count": 503,
   "id": "1f12128a",
   "metadata": {},
   "outputs": [
    {
     "data": {
      "image/png": "[encoded data removed]",
      "text/plain": [
       "<Figure size 432x288 with 1 Axes>"
      ]
     },
     "metadata": {
      "needs_background": "light"
     },
     "output_type": "display_data"
    }
   ],
   "source": [
    "col_selection = [ 'a_h5','a_h1','a_h1n1','a_h3','a_notsubtyped',\n",
    "                  'b_yamagata','b_victoria','b_notdetermined' ]\n",
    "\n",
    "who_df = who_df[col_selection]\n",
    "\n",
    "\n",
    "ax = who_df.plot()"
   ]
  },
  {
   "cell_type": "code",
   "execution_count": 511,
   "id": "c2991f5b",
   "metadata": {},
   "outputs": [
    {
     "data": {
      "image/png": "[encoded data removed]",
      "text/plain": [
       "<Figure size 432x288 with 1 Axes>"
      ]
     },
     "metadata": {
      "needs_background": "light"
     },
     "output_type": "display_data"
    }
   ],
   "source": [
    "col_selection = [ 'a_h5','a_h1','a_h1n1','a_h3','a_notsubtyped',\n",
    "                  'b_yamagata','b_victoria','b_notdetermined' ]\n",
    "\n",
    "who_df = who_df[col_selection]\n",
    "\n",
    "\n",
    "ax = who_df.plot()"
   ]
  },
  {
   "cell_type": "code",
   "execution_count": null,
   "id": "a0d1e916",
   "metadata": {},
   "outputs": [],
   "source": [
    "# to look at summary of the counts we create new columns\n",
    "# that sum the a_strain counts and b_strain counts and\n",
    "# then finds the total counts\n",
    "\n",
    "# for comparison with the Google search terms we normalise\n",
    "# the total counts to \n",
    "\n",
    "a_cols = ['a_h5','a_h1','a_h1n1','a_h3','a_notsubtyped']\n",
    "b_cols = ['b_yamagata','b_victoria','b_notdetermined']\n",
    "\n",
    "who_df['total_a'] = who_df[a_cols].sum(axis=1)\n",
    "who_df['total_b'] = who_df[b_cols].sum(axis=1)\n",
    "who_df['total'] = who_df['total_a'] + who_df['total_b']\n",
    "\n",
    "who_df['total'] = who_df['total']/who_df['total'].max()\n",
    "\n"
   ]
  },
  {
   "cell_type": "code",
   "execution_count": 450,
   "id": "5e811f42",
   "metadata": {},
   "outputs": [
    {
     "data": {
      "text/html": [
       "<div>\n",
       "<style scoped>\n",
       "    .dataframe tbody tr th:only-of-type {\n",
       "        vertical-align: middle;\n",
       "    }\n",
       "\n",
       "    .dataframe tbody tr th {\n",
       "        vertical-align: top;\n",
       "    }\n",
       "\n",
       "    .dataframe thead th {\n",
       "        text-align: right;\n",
       "    }\n",
       "</style>\n",
       "<table border=\"1\" class=\"dataframe\">\n",
       "  <thead>\n",
       "    <tr style=\"text-align: right;\">\n",
       "      <th></th>\n",
       "      <th>date</th>\n",
       "      <th>flu</th>\n",
       "    </tr>\n",
       "  </thead>\n",
       "  <tbody>\n",
       "    <tr>\n",
       "      <th>0</th>\n",
       "      <td>2010-05-02</td>\n",
       "      <td>0.06</td>\n",
       "    </tr>\n",
       "    <tr>\n",
       "      <th>1</th>\n",
       "      <td>2010-05-09</td>\n",
       "      <td>0.06</td>\n",
       "    </tr>\n",
       "    <tr>\n",
       "      <th>2</th>\n",
       "      <td>2010-05-16</td>\n",
       "      <td>0.07</td>\n",
       "    </tr>\n",
       "    <tr>\n",
       "      <th>3</th>\n",
       "      <td>2010-05-23</td>\n",
       "      <td>0.06</td>\n",
       "    </tr>\n",
       "    <tr>\n",
       "      <th>4</th>\n",
       "      <td>2010-05-30</td>\n",
       "      <td>0.05</td>\n",
       "    </tr>\n",
       "    <tr>\n",
       "      <th>...</th>\n",
       "      <td>...</td>\n",
       "      <td>...</td>\n",
       "    </tr>\n",
       "    <tr>\n",
       "      <th>256</th>\n",
       "      <td>2015-03-29</td>\n",
       "      <td>0.11</td>\n",
       "    </tr>\n",
       "    <tr>\n",
       "      <th>257</th>\n",
       "      <td>2015-04-05</td>\n",
       "      <td>0.09</td>\n",
       "    </tr>\n",
       "    <tr>\n",
       "      <th>258</th>\n",
       "      <td>2015-04-12</td>\n",
       "      <td>0.08</td>\n",
       "    </tr>\n",
       "    <tr>\n",
       "      <th>259</th>\n",
       "      <td>2015-04-19</td>\n",
       "      <td>0.08</td>\n",
       "    </tr>\n",
       "    <tr>\n",
       "      <th>260</th>\n",
       "      <td>2015-04-26</td>\n",
       "      <td>0.06</td>\n",
       "    </tr>\n",
       "  </tbody>\n",
       "</table>\n",
       "<p>261 rows × 2 columns</p>\n",
       "</div>"
      ],
      "text/plain": [
       "          date   flu\n",
       "0   2010-05-02  0.06\n",
       "1   2010-05-09  0.06\n",
       "2   2010-05-16  0.07\n",
       "3   2010-05-23  0.06\n",
       "4   2010-05-30  0.05\n",
       "..         ...   ...\n",
       "256 2015-03-29  0.11\n",
       "257 2015-04-05  0.09\n",
       "258 2015-04-12  0.08\n",
       "259 2015-04-19  0.08\n",
       "260 2015-04-26  0.06\n",
       "\n",
       "[261 rows x 2 columns]"
      ]
     },
     "execution_count": 450,
     "metadata": {},
     "output_type": "execute_result"
    }
   ],
   "source": [
    "# https://trends.google.com/trends/explore?date=2010-05-01%202015-05-01&geo=GB&q=flu,flu%20jab,flu%20symptoms\n",
    "data_path = os.path.join(\"data\", \"google_trends_flu.csv\")\n",
    "#print(data_path)\n",
    "\n",
    "flu_df = pd.read_csv(data_path, \n",
    "                     skiprows=3, \n",
    "                     names=['date','flu'])\n",
    "\n",
    "flu_df.date = pd.to_datetime(flu_df.date)\n",
    "\n",
    "data_cols = flu_df.columns[flu_df.columns != 'date']\n",
    "\n",
    "flu_df[data_cols] = flu_df[data_cols].replace('<1','0').astype('float64')\n",
    "\n",
    "for col in data_cols:\n",
    "    flu_df[col] = flu_df[col]/flu_df[col].max()\n",
    "    \n",
    "flu_df"
   ]
  },
  {
   "cell_type": "code",
   "execution_count": 451,
   "id": "fee5aa76",
   "metadata": {},
   "outputs": [
    {
     "data": {
      "text/html": [
       "<div>\n",
       "<style scoped>\n",
       "    .dataframe tbody tr th:only-of-type {\n",
       "        vertical-align: middle;\n",
       "    }\n",
       "\n",
       "    .dataframe tbody tr th {\n",
       "        vertical-align: top;\n",
       "    }\n",
       "\n",
       "    .dataframe thead th {\n",
       "        text-align: right;\n",
       "    }\n",
       "</style>\n",
       "<table border=\"1\" class=\"dataframe\">\n",
       "  <thead>\n",
       "    <tr style=\"text-align: right;\">\n",
       "      <th></th>\n",
       "      <th>date</th>\n",
       "      <th>flu</th>\n",
       "      <th>flu_jab</th>\n",
       "    </tr>\n",
       "  </thead>\n",
       "  <tbody>\n",
       "    <tr>\n",
       "      <th>0</th>\n",
       "      <td>2010-05-02</td>\n",
       "      <td>0.06</td>\n",
       "      <td>0.00</td>\n",
       "    </tr>\n",
       "    <tr>\n",
       "      <th>1</th>\n",
       "      <td>2010-05-09</td>\n",
       "      <td>0.06</td>\n",
       "      <td>0.01</td>\n",
       "    </tr>\n",
       "    <tr>\n",
       "      <th>2</th>\n",
       "      <td>2010-05-16</td>\n",
       "      <td>0.07</td>\n",
       "      <td>0.00</td>\n",
       "    </tr>\n",
       "    <tr>\n",
       "      <th>3</th>\n",
       "      <td>2010-05-23</td>\n",
       "      <td>0.06</td>\n",
       "      <td>0.01</td>\n",
       "    </tr>\n",
       "    <tr>\n",
       "      <th>4</th>\n",
       "      <td>2010-05-30</td>\n",
       "      <td>0.05</td>\n",
       "      <td>0.00</td>\n",
       "    </tr>\n",
       "    <tr>\n",
       "      <th>...</th>\n",
       "      <td>...</td>\n",
       "      <td>...</td>\n",
       "      <td>...</td>\n",
       "    </tr>\n",
       "    <tr>\n",
       "      <th>256</th>\n",
       "      <td>2015-03-29</td>\n",
       "      <td>0.11</td>\n",
       "      <td>0.01</td>\n",
       "    </tr>\n",
       "    <tr>\n",
       "      <th>257</th>\n",
       "      <td>2015-04-05</td>\n",
       "      <td>0.09</td>\n",
       "      <td>0.00</td>\n",
       "    </tr>\n",
       "    <tr>\n",
       "      <th>258</th>\n",
       "      <td>2015-04-12</td>\n",
       "      <td>0.08</td>\n",
       "      <td>0.01</td>\n",
       "    </tr>\n",
       "    <tr>\n",
       "      <th>259</th>\n",
       "      <td>2015-04-19</td>\n",
       "      <td>0.08</td>\n",
       "      <td>0.01</td>\n",
       "    </tr>\n",
       "    <tr>\n",
       "      <th>260</th>\n",
       "      <td>2015-04-26</td>\n",
       "      <td>0.06</td>\n",
       "      <td>0.01</td>\n",
       "    </tr>\n",
       "  </tbody>\n",
       "</table>\n",
       "<p>261 rows × 3 columns</p>\n",
       "</div>"
      ],
      "text/plain": [
       "          date   flu  flu_jab\n",
       "0   2010-05-02  0.06     0.00\n",
       "1   2010-05-09  0.06     0.01\n",
       "2   2010-05-16  0.07     0.00\n",
       "3   2010-05-23  0.06     0.01\n",
       "4   2010-05-30  0.05     0.00\n",
       "..         ...   ...      ...\n",
       "256 2015-03-29  0.11     0.01\n",
       "257 2015-04-05  0.09     0.00\n",
       "258 2015-04-12  0.08     0.01\n",
       "259 2015-04-19  0.08     0.01\n",
       "260 2015-04-26  0.06     0.01\n",
       "\n",
       "[261 rows x 3 columns]"
      ]
     },
     "execution_count": 451,
     "metadata": {},
     "output_type": "execute_result"
    }
   ],
   "source": [
    "# https://trends.google.com/trends/explore?date=2010-05-01%202015-05-01&geo=GB&q=flu,flu%20jab,flu%20symptoms\n",
    "data_path = os.path.join(\"data\", \"google_trends_flu_jab.csv\")\n",
    "#print(data_path)\n",
    "\n",
    "flu_jab_df = None\n",
    "flu_jab_df = pd.read_csv(data_path, \n",
    "                     skiprows=3, \n",
    "                     names=['date','flu_jab'])\n",
    "\n",
    "flu_jab_df.date = pd.to_datetime(flu_jab_df.date)\n",
    "\n",
    "data_cols = flu_jab_df.columns[flu_jab_df.columns != 'date']\n",
    "\n",
    "flu_jab_df[data_cols] = flu_jab_df[data_cols].replace('<1','0').astype('float64')\n",
    "\n",
    "for col in data_cols:\n",
    "    flu_jab_df[col] = flu_jab_df[col]/flu_jab_df[col].max()\n",
    "    \n",
    "flu_df['flu_jab'] = flu_jab_df['flu_jab']\n",
    "flu_df"
   ]
  },
  {
   "cell_type": "code",
   "execution_count": 452,
   "id": "3b17ebdc",
   "metadata": {},
   "outputs": [
    {
     "data": {
      "text/plain": [
       "<AxesSubplot:xlabel='date'>"
      ]
     },
     "execution_count": 452,
     "metadata": {},
     "output_type": "execute_result"
    },
    {
     "data": {
      "image/png": "[encoded data removed]",
      "text/plain": [
       "<Figure size 432x288 with 1 Axes>"
      ]
     },
     "metadata": {
      "needs_background": "light"
     },
     "output_type": "display_data"
    }
   ],
   "source": [
    "ax = who_df.plot(x='date', y='total')\n",
    "flu_df.plot(x='date', y=['flu','flu_jab'], ax=ax)"
   ]
  },
  {
   "cell_type": "code",
   "execution_count": 453,
   "id": "d4f128d0",
   "metadata": {},
   "outputs": [],
   "source": [
    "start_date = flu_df.iloc[0].date\n",
    "end_date = flu_df.iloc[-1].date\n",
    "\n",
    "date_index = pd.date_range(start=start_date, end=end_date, freq='w')\n",
    "flu_df.index = date_index\n",
    "\n",
    "\n",
    "row_selection = (who_df['date'] >= start_date) & (who_df['date'] <= end_date)\n",
    "who_df = who_df[row_selection]\n",
    "\n",
    "who_df.index = date_index[:-1]"
   ]
  },
  {
   "cell_type": "code",
   "execution_count": 454,
   "id": "fc1558b9",
   "metadata": {},
   "outputs": [
    {
     "data": {
      "image/png": "[encoded data removed]",
      "text/plain": [
       "<Figure size 432x288 with 1 Axes>"
      ]
     },
     "metadata": {
      "needs_background": "light"
     },
     "output_type": "display_data"
    }
   ],
   "source": [
    "combined_df = pd.concat([flu_df.iloc[:-1], who_df['total']], axis=1 )\n",
    "data_cols = combined_df.columns[combined_df.columns != 'date']\n",
    "ax = combined_df[data_cols].plot()"
   ]
  },
  {
   "cell_type": "code",
   "execution_count": 455,
   "id": "c1932927",
   "metadata": {},
   "outputs": [
    {
     "data": {
      "text/html": [
       "<table class=\"simpletable\">\n",
       "<caption>OLS Regression Results</caption>\n",
       "<tr>\n",
       "  <th>Dep. Variable:</th>          <td>total</td>      <th>  R-squared:         </th> <td>   0.860</td> \n",
       "</tr>\n",
       "<tr>\n",
       "  <th>Model:</th>                   <td>OLS</td>       <th>  Adj. R-squared:    </th> <td>   0.859</td> \n",
       "</tr>\n",
       "<tr>\n",
       "  <th>Method:</th>             <td>Least Squares</td>  <th>  F-statistic:       </th> <td>   790.8</td> \n",
       "</tr>\n",
       "<tr>\n",
       "  <th>Date:</th>             <td>Wed, 24 Nov 2021</td> <th>  Prob (F-statistic):</th> <td>1.54e-110</td>\n",
       "</tr>\n",
       "<tr>\n",
       "  <th>Time:</th>                 <td>11:35:08</td>     <th>  Log-Likelihood:    </th> <td>  559.87</td> \n",
       "</tr>\n",
       "<tr>\n",
       "  <th>No. Observations:</th>      <td>   260</td>      <th>  AIC:               </th> <td>  -1114.</td> \n",
       "</tr>\n",
       "<tr>\n",
       "  <th>Df Residuals:</th>          <td>   257</td>      <th>  BIC:               </th> <td>  -1103.</td> \n",
       "</tr>\n",
       "<tr>\n",
       "  <th>Df Model:</th>              <td>     2</td>      <th>                     </th>     <td> </td>    \n",
       "</tr>\n",
       "<tr>\n",
       "  <th>Covariance Type:</th>      <td>nonrobust</td>    <th>                     </th>     <td> </td>    \n",
       "</tr>\n",
       "</table>\n",
       "<table class=\"simpletable\">\n",
       "<tr>\n",
       "      <td></td>         <th>coef</th>     <th>std err</th>      <th>t</th>      <th>P>|t|</th>  <th>[0.025</th>    <th>0.975]</th>  \n",
       "</tr>\n",
       "<tr>\n",
       "  <th>Intercept</th> <td>   -0.0421</td> <td>    0.003</td> <td>  -16.131</td> <td> 0.000</td> <td>   -0.047</td> <td>   -0.037</td>\n",
       "</tr>\n",
       "<tr>\n",
       "  <th>flu</th>       <td>    0.9988</td> <td>    0.028</td> <td>   35.820</td> <td> 0.000</td> <td>    0.944</td> <td>    1.054</td>\n",
       "</tr>\n",
       "<tr>\n",
       "  <th>flu_jab</th>   <td>   -0.3510</td> <td>    0.021</td> <td>  -16.838</td> <td> 0.000</td> <td>   -0.392</td> <td>   -0.310</td>\n",
       "</tr>\n",
       "</table>\n",
       "<table class=\"simpletable\">\n",
       "<tr>\n",
       "  <th>Omnibus:</th>       <td>16.086</td> <th>  Durbin-Watson:     </th> <td>   0.657</td>\n",
       "</tr>\n",
       "<tr>\n",
       "  <th>Prob(Omnibus):</th> <td> 0.000</td> <th>  Jarque-Bera (JB):  </th> <td>  42.185</td>\n",
       "</tr>\n",
       "<tr>\n",
       "  <th>Skew:</th>          <td> 0.148</td> <th>  Prob(JB):          </th> <td>6.91e-10</td>\n",
       "</tr>\n",
       "<tr>\n",
       "  <th>Kurtosis:</th>      <td> 4.951</td> <th>  Cond. No.          </th> <td>    19.0</td>\n",
       "</tr>\n",
       "</table><br/><br/>Notes:<br/>[1] Standard Errors assume that the covariance matrix of the errors is correctly specified."
      ],
      "text/plain": [
       "<class 'statsmodels.iolib.summary.Summary'>\n",
       "\"\"\"\n",
       "                            OLS Regression Results                            \n",
       "==============================================================================\n",
       "Dep. Variable:                  total   R-squared:                       0.860\n",
       "Model:                            OLS   Adj. R-squared:                  0.859\n",
       "Method:                 Least Squares   F-statistic:                     790.8\n",
       "Date:                Wed, 24 Nov 2021   Prob (F-statistic):          1.54e-110\n",
       "Time:                        11:35:08   Log-Likelihood:                 559.87\n",
       "No. Observations:                 260   AIC:                            -1114.\n",
       "Df Residuals:                     257   BIC:                            -1103.\n",
       "Df Model:                           2                                         \n",
       "Covariance Type:            nonrobust                                         \n",
       "==============================================================================\n",
       "                 coef    std err          t      P>|t|      [0.025      0.975]\n",
       "------------------------------------------------------------------------------\n",
       "Intercept     -0.0421      0.003    -16.131      0.000      -0.047      -0.037\n",
       "flu            0.9988      0.028     35.820      0.000       0.944       1.054\n",
       "flu_jab       -0.3510      0.021    -16.838      0.000      -0.392      -0.310\n",
       "==============================================================================\n",
       "Omnibus:                       16.086   Durbin-Watson:                   0.657\n",
       "Prob(Omnibus):                  0.000   Jarque-Bera (JB):               42.185\n",
       "Skew:                           0.148   Prob(JB):                     6.91e-10\n",
       "Kurtosis:                       4.951   Cond. No.                         19.0\n",
       "==============================================================================\n",
       "\n",
       "Notes:\n",
       "[1] Standard Errors assume that the covariance matrix of the errors is correctly specified.\n",
       "\"\"\""
      ]
     },
     "execution_count": 455,
     "metadata": {},
     "output_type": "execute_result"
    }
   ],
   "source": [
    "import statsmodels.formula.api as smf\n",
    "lm = smf.ols(formula='total ~ flu + flu_jab ', data=combined_df).fit()\n",
    "lm.summary()"
   ]
  },
  {
   "cell_type": "code",
   "execution_count": 456,
   "id": "33c5c275",
   "metadata": {},
   "outputs": [
    {
     "data": {
      "text/plain": [
       "'predicted_total = 0.999*flu + -0.351*flu_jab'"
      ]
     },
     "execution_count": 456,
     "metadata": {},
     "output_type": "execute_result"
    }
   ],
   "source": [
    "f\"predicted_total = {lm.params['flu']:.3f}*flu + {lm.params['flu_jab']:.3f}*flu_jab\"\n",
    "\n"
   ]
  },
  {
   "cell_type": "code",
   "execution_count": 457,
   "id": "664bc698",
   "metadata": {},
   "outputs": [
    {
     "data": {
      "image/png": "[encoded data removed]",
      "text/plain": [
       "<Figure size 432x288 with 1 Axes>"
      ]
     },
     "metadata": {
      "needs_background": "light"
     },
     "output_type": "display_data"
    }
   ],
   "source": [
    "combined_df['predicted'] = lm.fittedvalues\n",
    "\n",
    "ax = combined_df.plot(x='date', y=['total','predicted'])"
   ]
  },
  {
   "cell_type": "code",
   "execution_count": null,
   "id": "30fb23ae",
   "metadata": {},
   "outputs": [],
   "source": []
  }
 ],
 "metadata": {
  "kernelspec": {
   "display_name": "Python 3 (ipykernel)",
   "language": "python",
   "name": "python3"
  },
  "language_info": {
   "codemirror_mode": {
    "name": "ipython",
    "version": 3
   },
   "file_extension": ".py",
   "mimetype": "text/x-python",
   "name": "python",
   "nbconvert_exporter": "python",
   "pygments_lexer": "ipython3",
   "version": "3.8.11"
  }
 },
 "nbformat": 4,
 "nbformat_minor": 5
}
