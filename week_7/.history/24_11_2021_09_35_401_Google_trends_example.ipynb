{
 "cells": [
  {
   "cell_type": "code",
   "execution_count": 2,
   "id": "7194a214",
   "metadata": {},
   "outputs": [],
   "source": [
    "import numpy as np\n",
    "import pandas as pd\n",
    "import matplotlib.pyplot as plt\n",
    "from scipy.stats import linregress\n",
    "import os"
   ]
  },
  {
   "cell_type": "markdown",
   "id": "5a143d9c",
   "metadata": {},
   "source": [
    "We can either organise our data by putting it in our working directory, or if we have a lot of files we can put them in their own directory on our disk.\n"
   ]
  },
  {
   "cell_type": "code",
   "execution_count": 201,
   "id": "37c3da7a",
   "metadata": {},
   "outputs": [
    {
     "ename": "ValueError",
     "evalue": "Item wrong length 4 instead of 261.",
     "output_type": "error",
     "traceback": [
      "\u001b[0;31m---------------------------------------------------------------------------\u001b[0m",
      "\u001b[0;31mValueError\u001b[0m                                Traceback (most recent call last)",
      "\u001b[0;32m/var/folders/f7/m7mf1v_90_q2vbjdrf__lv7w0000gn/T/ipykernel_68487/2857262643.py\u001b[0m in \u001b[0;36m<module>\u001b[0;34m\u001b[0m\n\u001b[1;32m      9\u001b[0m \u001b[0mdata_cols\u001b[0m \u001b[0;34m=\u001b[0m \u001b[0mflu_df\u001b[0m\u001b[0;34m.\u001b[0m\u001b[0mcolumns\u001b[0m \u001b[0;34m!=\u001b[0m \u001b[0;34m'date'\u001b[0m\u001b[0;34m\u001b[0m\u001b[0;34m\u001b[0m\u001b[0m\n\u001b[1;32m     10\u001b[0m \u001b[0;34m\u001b[0m\u001b[0m\n\u001b[0;32m---> 11\u001b[0;31m \u001b[0mflu_df\u001b[0m\u001b[0;34m[\u001b[0m\u001b[0mdata_cols\u001b[0m\u001b[0;34m]\u001b[0m\u001b[0;34m.\u001b[0m\u001b[0mreplace\u001b[0m\u001b[0;34m(\u001b[0m\u001b[0;34m'<1'\u001b[0m\u001b[0;34m,\u001b[0m\u001b[0;34m'0'\u001b[0m\u001b[0;34m)\u001b[0m\u001b[0;34m.\u001b[0m\u001b[0mconvert_dtypes\u001b[0m\u001b[0;34m(\u001b[0m\u001b[0;34m)\u001b[0m\u001b[0;34m.\u001b[0m\u001b[0minfo\u001b[0m\u001b[0;34m(\u001b[0m\u001b[0;34m)\u001b[0m\u001b[0;34m\u001b[0m\u001b[0;34m\u001b[0m\u001b[0m\n\u001b[0m",
      "\u001b[0;32m~/opt/anaconda3/lib/python3.8/site-packages/pandas/core/frame.py\u001b[0m in \u001b[0;36m__getitem__\u001b[0;34m(self, key)\u001b[0m\n\u001b[1;32m   3447\u001b[0m         \u001b[0;31m# Do we have a (boolean) 1d indexer?\u001b[0m\u001b[0;34m\u001b[0m\u001b[0;34m\u001b[0m\u001b[0;34m\u001b[0m\u001b[0m\n\u001b[1;32m   3448\u001b[0m         \u001b[0;32mif\u001b[0m \u001b[0mcom\u001b[0m\u001b[0;34m.\u001b[0m\u001b[0mis_bool_indexer\u001b[0m\u001b[0;34m(\u001b[0m\u001b[0mkey\u001b[0m\u001b[0;34m)\u001b[0m\u001b[0;34m:\u001b[0m\u001b[0;34m\u001b[0m\u001b[0;34m\u001b[0m\u001b[0m\n\u001b[0;32m-> 3449\u001b[0;31m             \u001b[0;32mreturn\u001b[0m \u001b[0mself\u001b[0m\u001b[0;34m.\u001b[0m\u001b[0m_getitem_bool_array\u001b[0m\u001b[0;34m(\u001b[0m\u001b[0mkey\u001b[0m\u001b[0;34m)\u001b[0m\u001b[0;34m\u001b[0m\u001b[0;34m\u001b[0m\u001b[0m\n\u001b[0m\u001b[1;32m   3450\u001b[0m \u001b[0;34m\u001b[0m\u001b[0m\n\u001b[1;32m   3451\u001b[0m         \u001b[0;31m# We are left with two options: a single key, and a collection of keys,\u001b[0m\u001b[0;34m\u001b[0m\u001b[0;34m\u001b[0m\u001b[0;34m\u001b[0m\u001b[0m\n",
      "\u001b[0;32m~/opt/anaconda3/lib/python3.8/site-packages/pandas/core/frame.py\u001b[0m in \u001b[0;36m_getitem_bool_array\u001b[0;34m(self, key)\u001b[0m\n\u001b[1;32m   3494\u001b[0m             )\n\u001b[1;32m   3495\u001b[0m         \u001b[0;32melif\u001b[0m \u001b[0mlen\u001b[0m\u001b[0;34m(\u001b[0m\u001b[0mkey\u001b[0m\u001b[0;34m)\u001b[0m \u001b[0;34m!=\u001b[0m \u001b[0mlen\u001b[0m\u001b[0;34m(\u001b[0m\u001b[0mself\u001b[0m\u001b[0;34m.\u001b[0m\u001b[0mindex\u001b[0m\u001b[0;34m)\u001b[0m\u001b[0;34m:\u001b[0m\u001b[0;34m\u001b[0m\u001b[0;34m\u001b[0m\u001b[0m\n\u001b[0;32m-> 3496\u001b[0;31m             raise ValueError(\n\u001b[0m\u001b[1;32m   3497\u001b[0m                 \u001b[0;34mf\"Item wrong length {len(key)} instead of {len(self.index)}.\"\u001b[0m\u001b[0;34m\u001b[0m\u001b[0;34m\u001b[0m\u001b[0m\n\u001b[1;32m   3498\u001b[0m             )\n",
      "\u001b[0;31mValueError\u001b[0m: Item wrong length 4 instead of 261."
     ]
    }
   ],
   "source": [
    "# https://trends.google.com/trends/explore?date=2010-05-01%202015-05-01&geo=GB&q=flu,flu%20jab,flu%20symptoms\n",
    "data_path = os.path.join(\"data\", \"google_trends_original.csv\")\n",
    "#print(data_path)\n",
    "\n",
    "flu_df = pd.read_csv(data_path, \n",
    "                     skiprows=3, \n",
    "                     names=['date','flu','flu_jab','flu_symptoms'])\n",
    "\n",
    "data_cols = flu_df.columns != 'date'\n",
    "\n",
    "flu_df[data_cols].replace('<1','0').convert_dtypes().info()"
   ]
  },
  {
   "cell_type": "code",
   "execution_count": 195,
   "id": "4d6d9e18",
   "metadata": {},
   "outputs": [
    {
     "name": "stdout",
     "output_type": "stream",
     "text": [
      "<class 'pandas.core.frame.DataFrame'>\n",
      "RangeIndex: 261 entries, 0 to 260\n",
      "Data columns (total 4 columns):\n",
      " #   Column        Non-Null Count  Dtype \n",
      "---  ------        --------------  ----- \n",
      " 0   date          261 non-null    object\n",
      " 1   flu           261 non-null    int64 \n",
      " 2   flu_jab       261 non-null    object\n",
      " 3   flu_symptoms  261 non-null    object\n",
      "dtypes: int64(1), object(3)\n",
      "memory usage: 8.3+ KB\n"
     ]
    }
   ],
   "source": [
    "flu_df.info()"
   ]
  },
  {
   "cell_type": "code",
   "execution_count": 196,
   "id": "4d90e069",
   "metadata": {},
   "outputs": [
    {
     "name": "stdout",
     "output_type": "stream",
     "text": [
      "<class 'pandas.core.frame.DataFrame'>\n",
      "RangeIndex: 261 entries, 0 to 260\n",
      "Data columns (total 4 columns):\n",
      " #   Column        Non-Null Count  Dtype         \n",
      "---  ------        --------------  -----         \n",
      " 0   date          261 non-null    datetime64[ns]\n",
      " 1   flu           261 non-null    int64         \n",
      " 2   flu_jab       261 non-null    int64         \n",
      " 3   flu_symptoms  261 non-null    int64         \n",
      "dtypes: datetime64[ns](1), int64(3)\n",
      "memory usage: 8.3 KB\n"
     ]
    }
   ],
   "source": [
    "flu_df = flu_df.replace('<1','1')\n",
    "\n",
    "flu_df.flu = pd.to_numeric(flu_df.flu)\n",
    "flu_df.flu_jab = pd.to_numeric(flu_df.flu_jab)\n",
    "flu_df.flu_symptoms = pd.to_numeric(flu_df.flu_symptoms)\n",
    "\n",
    "flu_df.date = pd.to_datetime(flu_df.date)\n",
    "flu_df.info()"
   ]
  },
  {
   "cell_type": "code",
   "execution_count": 197,
   "id": "2c171072",
   "metadata": {},
   "outputs": [],
   "source": [
    "flu_df['flu_norm'] = flu_df['flu']/flu_df['flu'].max()\n",
    "flu_df['flu_jab_norm'] = flu_df['flu_jab']/flu_df['flu_jab'].max()\n",
    "flu_df['flu_symptoms_norm'] = flu_df['flu_symptoms']/flu_df['flu_symptoms'].max()"
   ]
  },
  {
   "cell_type": "code",
   "execution_count": 198,
   "id": "97c5ce41",
   "metadata": {},
   "outputs": [
    {
     "data": {
      "text/plain": [
       "Text(0, 0.5, 'Search volume')"
      ]
     },
     "execution_count": 198,
     "metadata": {},
     "output_type": "execute_result"
    },
    {
     "data": {
      "image/png": "[encoded data removed]",
      "text/plain": [
       "<Figure size 432x288 with 1 Axes>"
      ]
     },
     "metadata": {
      "needs_background": "light"
     },
     "output_type": "display_data"
    }
   ],
   "source": [
    "fig = plt.figure()\n",
    "ax = fig.add_subplot()\n",
    "\n",
    "ax.plot(flu_df.date, flu_df.flu_norm, 'r', label=\"search: flu\")\n",
    "ax.plot(flu_df.date, flu_df.flu_symptoms_norm, 'b',label=\"search: flu symptoms\")\n",
    "ax.plot(flu_df.date, flu_df.flu_jab_norm, 'g',label=\"search: flu jab\")\n",
    "\n",
    "ax.legend()\n",
    "ax.set_xlabel(\"Year\")\n",
    "ax.set_ylabel(\"Search volume\")"
   ]
  },
  {
   "cell_type": "code",
   "execution_count": 199,
   "id": "4c31eb97",
   "metadata": {},
   "outputs": [
    {
     "data": {
      "text/plain": [
       "<AxesSubplot:xlabel='date'>"
      ]
     },
     "execution_count": 199,
     "metadata": {},
     "output_type": "execute_result"
    },
    {
     "data": {
      "image/png": "[encoded data removed]",
      "text/plain": [
       "<Figure size 432x288 with 1 Axes>"
      ]
     },
     "metadata": {
      "needs_background": "light"
     },
     "output_type": "display_data"
    }
   ],
   "source": [
    "data_path = os.path.join(\"data\", \"who_flunet_uk_original.csv\")\n",
    "#print(data_path)\n",
    "\n",
    "# if \"whodata.csv\" is in the same directory use\n",
    "# who_df = pd.read_csv(\"whodata.csv\")\n",
    "\n",
    "\n",
    "#who_df.columns.to_list()\n",
    "\n",
    "colnames = [ 'a_h5_label', 'year', 'week', 'a_h5',\n",
    "          'a_h1_label', 'a_h1',\n",
    "          'a_h1n1_label', 'a_h1n1',\n",
    "           'a_h3_label', 'a_h3',\n",
    "          'a_notsubtyped_label', 'a_notsubtyped',\n",
    "          'b_yamagata_label', 'b_yamagata',\n",
    "          'b_victoria_label', 'b_victoria',\n",
    "          'b_notdetermined_label', 'b_notdetermined' ]\n",
    "\n",
    "who_df = pd.read_csv(data_path, skiprows=4, names= colnames) \n",
    "\n",
    "date_vals = []\n",
    "\n",
    "for i in range(len(who_df)):\n",
    "    year = who_df.year[i]\n",
    "    week_num = who_df.week[i]\n",
    "    entry_date = pd.Timestamp.fromisocalendar(year,week_num,1)\n",
    "    date_vals.append(entry_date)\n",
    "\n",
    "who_df['date']=date_vals   \n",
    "\n",
    "who_df = who_df[( who_df.year >= 2010) & (who_df.year <= 2015 )]\n",
    "\n",
    "\n",
    "col_selection = [ 'date', 'a_h5','a_h1','a_h1n1','a_h3','a_notsubtyped',\n",
    "                  'b_yamagata','b_victoria','b_notdetermined' ]\n",
    "\n",
    "who_df = who_df[col_selection]\n",
    "\n",
    "a_cols = ['a_h5','a_h1','a_h1n1','a_h3','a_notsubtyped']\n",
    "b_cols = ['b_yamagata','b_victoria','b_notdetermined']\n",
    "\n",
    "who_df['total_a'] = who_df[a_cols].sum(axis=1)\n",
    "who_df['total_b'] = who_df[b_cols].sum(axis=1)\n",
    "who_df['total'] = who_df['total_a'] + who_df['total_b']\n",
    "\n",
    "who_df['total_norm'] = who_df['total']/who_df['total'].max()\n",
    "\n",
    "ax = who_df.plot(x='date', y='total_norm')\n",
    "flu_df.plot(x='date', y='flu_symptoms_norm', ax=ax)"
   ]
  },
  {
   "cell_type": "code",
   "execution_count": 200,
   "id": "5e811f42",
   "metadata": {},
   "outputs": [
    {
     "name": "stdout",
     "output_type": "stream",
     "text": [
      "<class 'pandas.core.frame.DataFrame'>\n",
      "RangeIndex: 261 entries, 0 to 260\n",
      "Data columns (total 2 columns):\n",
      " #   Column  Non-Null Count  Dtype \n",
      "---  ------  --------------  ----- \n",
      " 0   date    261 non-null    string\n",
      " 1   flu     261 non-null    Int64 \n",
      "dtypes: Int64(1), string(1)\n",
      "memory usage: 4.5 KB\n"
     ]
    },
    {
     "ename": "AttributeError",
     "evalue": "'DataFrame' object has no attribute 'flu_jab'",
     "output_type": "error",
     "traceback": [
      "\u001b[0;31m---------------------------------------------------------------------------\u001b[0m",
      "\u001b[0;31mAttributeError\u001b[0m                            Traceback (most recent call last)",
      "\u001b[0;32m/var/folders/f7/m7mf1v_90_q2vbjdrf__lv7w0000gn/T/ipykernel_68487/3123227093.py\u001b[0m in \u001b[0;36m<module>\u001b[0;34m\u001b[0m\n\u001b[1;32m     13\u001b[0m \u001b[0;34m\u001b[0m\u001b[0m\n\u001b[1;32m     14\u001b[0m \u001b[0mflu_df\u001b[0m\u001b[0;34m.\u001b[0m\u001b[0mflu\u001b[0m \u001b[0;34m=\u001b[0m \u001b[0mpd\u001b[0m\u001b[0;34m.\u001b[0m\u001b[0mto_numeric\u001b[0m\u001b[0;34m(\u001b[0m\u001b[0mflu_df\u001b[0m\u001b[0;34m.\u001b[0m\u001b[0mflu\u001b[0m\u001b[0;34m)\u001b[0m\u001b[0;34m\u001b[0m\u001b[0;34m\u001b[0m\u001b[0m\n\u001b[0;32m---> 15\u001b[0;31m \u001b[0mflu_df\u001b[0m\u001b[0;34m.\u001b[0m\u001b[0mflu_jab\u001b[0m \u001b[0;34m=\u001b[0m \u001b[0mpd\u001b[0m\u001b[0;34m.\u001b[0m\u001b[0mto_numeric\u001b[0m\u001b[0;34m(\u001b[0m\u001b[0mflu_df\u001b[0m\u001b[0;34m.\u001b[0m\u001b[0mflu_jab\u001b[0m\u001b[0;34m)\u001b[0m\u001b[0;34m\u001b[0m\u001b[0;34m\u001b[0m\u001b[0m\n\u001b[0m\u001b[1;32m     16\u001b[0m \u001b[0mflu_df\u001b[0m\u001b[0;34m.\u001b[0m\u001b[0mflu_symptoms\u001b[0m \u001b[0;34m=\u001b[0m \u001b[0mpd\u001b[0m\u001b[0;34m.\u001b[0m\u001b[0mto_numeric\u001b[0m\u001b[0;34m(\u001b[0m\u001b[0mflu_df\u001b[0m\u001b[0;34m.\u001b[0m\u001b[0mflu_symptoms\u001b[0m\u001b[0;34m)\u001b[0m\u001b[0;34m\u001b[0m\u001b[0;34m\u001b[0m\u001b[0m\n\u001b[1;32m     17\u001b[0m \u001b[0;34m\u001b[0m\u001b[0m\n",
      "\u001b[0;32m~/opt/anaconda3/lib/python3.8/site-packages/pandas/core/generic.py\u001b[0m in \u001b[0;36m__getattr__\u001b[0;34m(self, name)\u001b[0m\n\u001b[1;32m   5485\u001b[0m         ):\n\u001b[1;32m   5486\u001b[0m             \u001b[0;32mreturn\u001b[0m \u001b[0mself\u001b[0m\u001b[0;34m[\u001b[0m\u001b[0mname\u001b[0m\u001b[0;34m]\u001b[0m\u001b[0;34m\u001b[0m\u001b[0;34m\u001b[0m\u001b[0m\n\u001b[0;32m-> 5487\u001b[0;31m         \u001b[0;32mreturn\u001b[0m \u001b[0mobject\u001b[0m\u001b[0;34m.\u001b[0m\u001b[0m__getattribute__\u001b[0m\u001b[0;34m(\u001b[0m\u001b[0mself\u001b[0m\u001b[0;34m,\u001b[0m \u001b[0mname\u001b[0m\u001b[0;34m)\u001b[0m\u001b[0;34m\u001b[0m\u001b[0;34m\u001b[0m\u001b[0m\n\u001b[0m\u001b[1;32m   5488\u001b[0m \u001b[0;34m\u001b[0m\u001b[0m\n\u001b[1;32m   5489\u001b[0m     \u001b[0;32mdef\u001b[0m \u001b[0m__setattr__\u001b[0m\u001b[0;34m(\u001b[0m\u001b[0mself\u001b[0m\u001b[0;34m,\u001b[0m \u001b[0mname\u001b[0m\u001b[0;34m:\u001b[0m \u001b[0mstr\u001b[0m\u001b[0;34m,\u001b[0m \u001b[0mvalue\u001b[0m\u001b[0;34m)\u001b[0m \u001b[0;34m->\u001b[0m \u001b[0;32mNone\u001b[0m\u001b[0;34m:\u001b[0m\u001b[0;34m\u001b[0m\u001b[0;34m\u001b[0m\u001b[0m\n",
      "\u001b[0;31mAttributeError\u001b[0m: 'DataFrame' object has no attribute 'flu_jab'"
     ]
    }
   ],
   "source": [
    "# https://trends.google.com/trends/explore?date=2010-05-01%202015-05-01&geo=GB&q=flu,flu%20jab,flu%20symptoms\n",
    "data_path = os.path.join(\"data\", \"google_trends_flu.csv\")\n",
    "#print(data_path)\n",
    "\n",
    "flu_df = pd.read_csv(data_path, \n",
    "                     skiprows=3, \n",
    "                     names=['date','flu'])\n",
    "\n",
    "data_cols = flu_df.columns != 'date'\n",
    "\n",
    "flu_df.replace('<1','0').convert_dtypes().info()\n",
    "\n",
    "flu_df = flu_df.replace('<1','1')\n",
    "\n",
    "flu_df.flu = pd.to_numeric(flu_df.flu)\n",
    "\n",
    "flu_df.date = pd.to_datetime(flu_df.date)\n",
    "flu_df['flu_norm'] = flu_df['flu']/flu_df['flu'].max()\n",
    "flu_df['flu_jab_norm'] = flu_df['flu_jab']/flu_df['flu_jab'].max()\n",
    "flu_df['flu_symptoms_norm'] = flu_df['flu_symptoms']/flu_df['flu_symptoms'].max()"
   ]
  },
  {
   "cell_type": "code",
   "execution_count": null,
   "id": "9370ebe5",
   "metadata": {},
   "outputs": [],
   "source": []
  },
  {
   "cell_type": "code",
   "execution_count": null,
   "id": "d37bd7d6",
   "metadata": {},
   "outputs": [],
   "source": []
  },
  {
   "cell_type": "code",
   "execution_count": null,
   "id": "de8c6a3a",
   "metadata": {},
   "outputs": [],
   "source": []
  },
  {
   "cell_type": "code",
   "execution_count": null,
   "id": "b442b8c0",
   "metadata": {},
   "outputs": [],
   "source": []
  },
  {
   "cell_type": "code",
   "execution_count": null,
   "id": "04ba0306",
   "metadata": {},
   "outputs": [],
   "source": []
  },
  {
   "cell_type": "code",
   "execution_count": null,
   "id": "b6feb057",
   "metadata": {},
   "outputs": [],
   "source": []
  }
 ],
 "metadata": {
  "kernelspec": {
   "display_name": "Python 3 (ipykernel)",
   "language": "python",
   "name": "python3"
  },
  "language_info": {
   "codemirror_mode": {
    "name": "ipython",
    "version": 3
   },
   "file_extension": ".py",
   "mimetype": "text/x-python",
   "name": "python",
   "nbconvert_exporter": "python",
   "pygments_lexer": "ipython3",
   "version": "3.8.11"
  }
 },
 "nbformat": 4,
 "nbformat_minor": 5
}
