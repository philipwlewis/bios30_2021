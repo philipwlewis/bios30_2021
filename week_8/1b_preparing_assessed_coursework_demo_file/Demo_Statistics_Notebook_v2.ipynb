{
 "cells": [
  {
   "cell_type": "markdown",
   "id": "e01dab7c",
   "metadata": {},
   "source": [
    "# Introduction\n",
    "\n",
    "This notebook demonstrates the functions available in the `simple_stats.py` python file. These act on lists of values, and return the calculation of some simple statistics."
   ]
  },
  {
   "cell_type": "code",
   "execution_count": 2,
   "id": "efe0a765",
   "metadata": {},
   "outputs": [],
   "source": [
    "# to import the module functions\n",
    "from simple_stats import *"
   ]
  },
  {
   "cell_type": "markdown",
   "id": "5ec2ea71",
   "metadata": {},
   "source": [
    "# Demonstrations \n",
    "\n",
    "## Functions that operate on a single input list\n",
    "\n",
    "Function `get_count()` returns the number of items in the list:"
   ]
  },
  {
   "cell_type": "code",
   "execution_count": 4,
   "id": "cdc32a08",
   "metadata": {},
   "outputs": [
    {
     "data": {
      "text/plain": [
       "7"
      ]
     },
     "execution_count": 4,
     "metadata": {},
     "output_type": "execute_result"
    }
   ],
   "source": [
    "# create a list to demonstrate the functions\n",
    "mylist1 = [10,9,11,8,12,7,13]\n",
    "\n",
    "# demo of get_count() function\n",
    "get_count(mylist1)"
   ]
  },
  {
   "cell_type": "markdown",
   "id": "90a8777f",
   "metadata": {},
   "source": [
    "Function `get_max()` returns the maximum value contained in the list:"
   ]
  },
  {
   "cell_type": "code",
   "execution_count": 5,
   "id": "969e2743",
   "metadata": {},
   "outputs": [
    {
     "data": {
      "text/plain": [
       "13"
      ]
     },
     "execution_count": 5,
     "metadata": {},
     "output_type": "execute_result"
    }
   ],
   "source": [
    "# demo of get_max() function\n",
    "get_max(mylist1)"
   ]
  },
  {
   "cell_type": "markdown",
   "id": "094ad107",
   "metadata": {},
   "source": [
    "Function `get_min()` returns the maximum value contained in the list:"
   ]
  },
  {
   "cell_type": "code",
   "execution_count": 6,
   "id": "d6711f00",
   "metadata": {},
   "outputs": [
    {
     "data": {
      "text/plain": [
       "7"
      ]
     },
     "execution_count": 6,
     "metadata": {},
     "output_type": "execute_result"
    }
   ],
   "source": [
    "# demo of get_min() function\n",
    "get_min(mylist1)"
   ]
  },
  {
   "cell_type": "markdown",
   "id": "5784c98d",
   "metadata": {},
   "source": [
    "We also have `get_max_idx()` and `get_min_idx()` that find the index of the max/min items in the list:"
   ]
  },
  {
   "cell_type": "code",
   "execution_count": 7,
   "id": "88e70883",
   "metadata": {},
   "outputs": [
    {
     "name": "stdout",
     "output_type": "stream",
     "text": [
      "index: 6 value: 13\n"
     ]
    }
   ],
   "source": [
    "# demo of get_max_idx() function\n",
    "idx = get_max_idx(mylist1)\n",
    "print(f\"index: {idx} value: {mylist1[idx]}\")"
   ]
  },
  {
   "cell_type": "code",
   "execution_count": 8,
   "id": "2f783174",
   "metadata": {},
   "outputs": [
    {
     "name": "stdout",
     "output_type": "stream",
     "text": [
      "index: 5 value: 7\n"
     ]
    }
   ],
   "source": [
    "# demo of get_min_idx() function\n",
    "idx = get_min_idx(mylist1)\n",
    "print(f\"index: {idx} value: {mylist1[idx]}\")"
   ]
  },
  {
   "cell_type": "markdown",
   "id": "e7e70ca4",
   "metadata": {},
   "source": [
    "The function `get_range()` returns a list of two items containing the min and max values stored in the list."
   ]
  },
  {
   "cell_type": "code",
   "execution_count": 10,
   "id": "7af7fd5a",
   "metadata": {},
   "outputs": [
    {
     "name": "stdout",
     "output_type": "stream",
     "text": [
      "min: 7 max: 13\n"
     ]
    }
   ],
   "source": [
    "# demo of get_range() function\n",
    "result = get_range(mylist1)\n",
    "print(f\"min: {result[0]} max: {result[1]}\")"
   ]
  },
  {
   "cell_type": "code",
   "execution_count": 8,
   "id": "3b99c4db",
   "metadata": {},
   "outputs": [
    {
     "name": "stdout",
     "output_type": "stream",
     "text": [
      "70\n"
     ]
    }
   ],
   "source": [
    "# demo of get_sum() function\n",
    "total = get_sum(mylist1)\n",
    "print(total)"
   ]
  },
  {
   "cell_type": "code",
   "execution_count": 9,
   "id": "a05feaa5",
   "metadata": {},
   "outputs": [
    {
     "name": "stdout",
     "output_type": "stream",
     "text": [
      "728\n"
     ]
    }
   ],
   "source": [
    "# demo of get_squared_sum() function\n",
    "squared_sum = get_squared_sum(mylist1)\n",
    "print(squared_sum)"
   ]
  },
  {
   "cell_type": "code",
   "execution_count": 10,
   "id": "ef37ce71",
   "metadata": {},
   "outputs": [
    {
     "data": {
      "text/plain": [
       "10.0"
      ]
     },
     "execution_count": 10,
     "metadata": {},
     "output_type": "execute_result"
    }
   ],
   "source": [
    "# demo of get_mean() function\n",
    "m = get_mean(mylist1)\n",
    "m"
   ]
  },
  {
   "cell_type": "code",
   "execution_count": 11,
   "id": "57940ceb",
   "metadata": {},
   "outputs": [
    {
     "data": {
      "text/plain": [
       "8"
      ]
     },
     "execution_count": 11,
     "metadata": {},
     "output_type": "execute_result"
    }
   ],
   "source": [
    "# demo of get_median() function\n",
    "med = get_median(mylist1)\n",
    "med"
   ]
  },
  {
   "cell_type": "code",
   "execution_count": 12,
   "id": "5b886406",
   "metadata": {},
   "outputs": [
    {
     "name": "stdout",
     "output_type": "stream",
     "text": [
      "sample variance 4.6667, population variance 4.0\n"
     ]
    }
   ],
   "source": [
    "# demo of get_median() function\n",
    "sample_variance = get_variance(mylist1, mode=\"sample\")\n",
    "pop_variance = get_variance(mylist1, mode=\"population\")\n",
    "\n",
    "\n",
    "print(f\"sample variance {sample_variance:.4f}, population variance {pop_variance}\")"
   ]
  },
  {
   "cell_type": "code",
   "execution_count": 13,
   "id": "41fa3490",
   "metadata": {},
   "outputs": [
    {
     "name": "stdout",
     "output_type": "stream",
     "text": [
      "stdev 2.1602\n"
     ]
    }
   ],
   "source": [
    "# demo of get_stdev() function\n",
    "stdev = get_stdev(mylist1)\n",
    "\n",
    "# note can add optional argument mode=\"population\" \n",
    "# to set the statistic calculation method accordingly\n",
    "# (default mode is \"sample\")\n",
    "\n",
    "print(f\"stdev {stdev:.4f}\")"
   ]
  },
  {
   "cell_type": "markdown",
   "id": "41a2a3d3",
   "metadata": {},
   "source": [
    "## Functions that operate on two input lists"
   ]
  },
  {
   "cell_type": "code",
   "execution_count": 11,
   "id": "7b952ad7",
   "metadata": {},
   "outputs": [],
   "source": [
    "# create two lists to demonstrate the functions\n",
    "a = [2,1,-1,1,0,1,1]\n",
    "b = [7,1,-7,1,0,5,1]"
   ]
  },
  {
   "cell_type": "markdown",
   "id": "2121b6bd",
   "metadata": {},
   "source": [
    "Function `get_covariance()` calculates the covariance between two lists of values. (Both lists must be the same size). "
   ]
  },
  {
   "cell_type": "code",
   "execution_count": 13,
   "id": "bf1597d8",
   "metadata": {},
   "outputs": [
    {
     "name": "stdout",
     "output_type": "stream",
     "text": [
      "covariance 3.8810\n"
     ]
    }
   ],
   "source": [
    "# demo of get_covariance() function\n",
    "covariance = get_covariance(a, b)\n",
    "\n",
    "# note can add optional argument mode=\"population\" or mode=\"sample\"\n",
    "# to set the statistic calculation method accordingly\n",
    "\n",
    "print(f\"covariance {covariance:.4f}\")"
   ]
  },
  {
   "cell_type": "markdown",
   "id": "3d155a08",
   "metadata": {},
   "source": [
    "Function `get_correlation()` calculates the correlation between two lists of values. (Both lists must be the same size). "
   ]
  },
  {
   "cell_type": "code",
   "execution_count": 15,
   "id": "3a7034d2",
   "metadata": {},
   "outputs": [
    {
     "name": "stdout",
     "output_type": "stream",
     "text": [
      "correlation 0.9245\n"
     ]
    }
   ],
   "source": [
    "# demo of get_correlation() function\n",
    "correlation = get_correlation(a, b)\n",
    "\n",
    "print(f\"correlation {correlation:.4f}\")"
   ]
  },
  {
   "cell_type": "markdown",
   "id": "360f1499",
   "metadata": {},
   "source": [
    "Function `get_linear_fit()` calculates the line of best fit between the y and x data, using equation `y = a + bx`. It returns a list containing the two fitted parameters `a` and `b`."
   ]
  },
  {
   "cell_type": "code",
   "execution_count": 16,
   "id": "53b3eb76",
   "metadata": {},
   "outputs": [
    {
     "name": "stdout",
     "output_type": "stream",
     "text": [
      "eqn of fit: y = 0.156 + 0.075x\n"
     ]
    }
   ],
   "source": [
    "x_vals = [0,     1,    2,   3,   4,   5,   6,   7,   8]\n",
    "y_vals = [0.1, 0.3,  0.2, 0.6, 0.5, 0.4,  0.5, 0.6,  0.9 ]\n",
    "\n",
    "result = get_linear_fit(x_vals, y_vals)\n",
    "a = result[0]\n",
    "b = result[1]\n",
    "\n",
    "print(f'eqn of fit: y = {a:.3f} + {b:.3f}x')"
   ]
  },
  {
   "cell_type": "markdown",
   "id": "3a585888",
   "metadata": {},
   "source": [
    "The `plot_data()` function takes lists of the x and y data points, and makes a scatter plot, adding on a line of best fit."
   ]
  },
  {
   "cell_type": "code",
   "execution_count": 17,
   "id": "390dfcc8",
   "metadata": {},
   "outputs": [
    {
     "data": {
      "image/png": "[encoded data removed]",
      "text/plain": [
       "<Figure size 432x288 with 1 Axes>"
      ]
     },
     "metadata": {
      "needs_background": "light"
     },
     "output_type": "display_data"
    }
   ],
   "source": [
    "plot_data(x_vals, y_vals)"
   ]
  },
  {
   "cell_type": "code",
   "execution_count": null,
   "id": "a511ac2a",
   "metadata": {},
   "outputs": [],
   "source": []
  }
 ],
 "metadata": {
  "kernelspec": {
   "display_name": "Python 3 (ipykernel)",
   "language": "python",
   "name": "python3"
  },
  "language_info": {
   "codemirror_mode": {
    "name": "ipython",
    "version": 3
   },
   "file_extension": ".py",
   "mimetype": "text/x-python",
   "name": "python",
   "nbconvert_exporter": "python",
   "pygments_lexer": "ipython3",
   "version": "3.8.11"
  }
 },
 "nbformat": 4,
 "nbformat_minor": 5
}
